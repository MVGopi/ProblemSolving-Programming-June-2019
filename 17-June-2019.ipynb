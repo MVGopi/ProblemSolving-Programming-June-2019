{
 "cells": [
  {
   "cell_type": "code",
   "execution_count": 2,
   "metadata": {},
   "outputs": [
    {
     "name": "stdout",
     "output_type": "stream",
     "text": [
      "2\n",
      "5\n",
      "3\n",
      "4\n",
      "3\n"
     ]
    }
   ],
   "source": [
    "# Function to a genrate number which gives the highest remainder when divisible by that number\n",
    "\n",
    "def highestRemainder():\n",
    "    v=0\n",
    "    h = 0\n",
    "    t = int(input())\n",
    "    for i in range(t):\n",
    "        num = int(input())\n",
    "        for j in range(1,num):\n",
    "            v1=num%j\n",
    "            if(v1>v):\n",
    "                v=v1\n",
    "                h=j\n",
    "            elif(v1==v):\n",
    "                h=j-1\n",
    "        print(h)\n",
    "        \n",
    "highestRemainder()\n",
    "                \n",
    "                "
   ]
  },
  {
   "cell_type": "code",
   "execution_count": 2,
   "metadata": {},
   "outputs": [
    {
     "name": "stdout",
     "output_type": "stream",
     "text": [
      "2\n",
      "6\n",
      "7\n",
      "NO\n",
      "9\n",
      "NO\n",
      "11\n",
      "NO\n",
      "13\n",
      "NO\n",
      "15\n",
      "NO\n",
      "21\n",
      "NO\n"
     ]
    }
   ],
   "source": [
    "#Function to generate no of prime factors\n",
    "\n",
    "def primeFactors():\n",
    "    P = int(input())\n",
    "    T = int(input())\n",
    "    m = 1\n",
    "    c = 0\n",
    "    for i in range(T):\n",
    "        num = int(input())\n",
    "        for j in range(1,num):\n",
    "            if(num%j==0 and (j>1 and m<j)):\n",
    "                if(j%m!=0):\n",
    "                    c=c+1\n",
    "        if(c>=P):\n",
    "            print(\"YES\")\n",
    "        else:\n",
    "            print(\"NO\")\n",
    "            \n",
    "primeFactors()\n",
    "                    \n",
    "                   \n",
    "                "
   ]
  },
  {
   "cell_type": "code",
   "execution_count": null,
   "metadata": {},
   "outputs": [],
   "source": []
  }
 ],
 "metadata": {
  "kernelspec": {
   "display_name": "Python 3",
   "language": "python",
   "name": "python3"
  },
  "language_info": {
   "codemirror_mode": {
    "name": "ipython",
    "version": 3
   },
   "file_extension": ".py",
   "mimetype": "text/x-python",
   "name": "python",
   "nbconvert_exporter": "python",
   "pygments_lexer": "ipython3",
   "version": "3.7.3"
  }
 },
 "nbformat": 4,
 "nbformat_minor": 2
}
