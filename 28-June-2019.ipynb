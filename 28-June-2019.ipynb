{
 "cells": [
  {
   "cell_type": "markdown",
   "metadata": {},
   "source": [
    "######  *Functional Programming\n",
    "\n",
    "**1. Map**\n",
    "\n",
    "**2. Lambda**\n",
    "\n",
    "**3. Filter**\n",
    "\n",
    "**4. Use Cases - File / Data Encryption**"
   ]
  },
  {
   "cell_type": "code",
   "execution_count": 1,
   "metadata": {
    "collapsed": true
   },
   "outputs": [],
   "source": [
    "# Map - Mapping an entity with function\n",
    "\n",
    "#x = range(1,10)\n",
    "\n",
    "#f(x) = x ** 2\n",
    "\n",
    "#y = f(x)\n",
    "\n",
    "# In the above example every element in x is mapped to result of function"
   ]
  },
  {
   "cell_type": "code",
   "execution_count": 9,
   "metadata": {
    "collapsed": true
   },
   "outputs": [
    {
     "data": {
      "text/plain": [
       "16"
      ]
     },
     "execution_count": 9,
     "metadata": {},
     "output_type": "execute_result"
    }
   ],
   "source": [
    "\n",
    "def powerN(a, n):\n",
    "    r = 1\n",
    "    for i in range(1,n+1):\n",
    "        r *= a\n",
    "    return r\n",
    "\n",
    "powerN(2,4)"
   ]
  },
  {
   "cell_type": "code",
   "execution_count": 11,
   "metadata": {
    "collapsed": true
   },
   "outputs": [
    {
     "data": {
      "text/plain": [
       "16"
      ]
     },
     "execution_count": 11,
     "metadata": {},
     "output_type": "execute_result"
    }
   ],
   "source": [
    "def recursivePowerN(a, n):\n",
    "    if(n == 0):\n",
    "        return 1\n",
    "    else:\n",
    "        return a * recursivePowerN(a, n-1)\n",
    "    \n",
    "recursivePowerN(2,4)"
   ]
  },
  {
   "cell_type": "code",
   "execution_count": 15,
   "metadata": {
    "collapsed": true
   },
   "outputs": [
    {
     "data": {
      "text/plain": [
       "[1, 8, 27, 64, 125, 216]"
      ]
     },
     "execution_count": 15,
     "metadata": {},
     "output_type": "execute_result"
    }
   ],
   "source": [
    "def cubeOfNumber(n):\n",
    "    return  n ** 3\n",
    "\n",
    "Numbers = [1,2,3,4,5,6]\n",
    "\n",
    "\n",
    "\n",
    "list(map(cubeOfNumber, Numbers))"
   ]
  },
  {
   "cell_type": "code",
   "execution_count": 18,
   "metadata": {
    "collapsed": true
   },
   "outputs": [
    {
     "data": {
      "text/plain": [
       "[1.0, 2.0, 3.0, 4.0]"
      ]
     },
     "execution_count": 18,
     "metadata": {},
     "output_type": "execute_result"
    }
   ],
   "source": [
    "# Data transformation using map function\n",
    "\n",
    "data = ['1','2','3','4']\n",
    "\n",
    "list(map(float, data))\n",
    "\n",
    "#list(map(str, list(map(int, data))))"
   ]
  },
  {
   "cell_type": "markdown",
   "metadata": {},
   "source": [
    "#### Filter \n",
    "\n",
    "Used to check boolean values"
   ]
  },
  {
   "cell_type": "code",
   "execution_count": 24,
   "metadata": {
    "collapsed": true
   },
   "outputs": [
    {
     "data": {
      "text/plain": [
       "(1, 2, 3)"
      ]
     },
     "execution_count": 24,
     "metadata": {},
     "output_type": "execute_result"
    }
   ],
   "source": [
    "li = [1,'a',2,'b',3,'c']\n",
    "\n",
    "def isDigit(ch):\n",
    "    ch = str(ch)\n",
    "    if(ch.isdigit()):\n",
    "        return True\n",
    "    else:\n",
    "        return False\n",
    "\n",
    "tuple(filter(isDigit, li))"
   ]
  },
  {
   "cell_type": "code",
   "execution_count": null,
   "metadata": {
    "collapsed": true
   },
   "outputs": [],
   "source": []
  },
  {
   "cell_type": "code",
   "execution_count": null,
   "metadata": {},
   "outputs": [],
   "source": [
    "# Filter function to give all primes in a given range\n",
    "\n",
    "def checkPrime(num):\n",
    "    if(num > 1):\n",
    "        for value in range(2, num):\n",
    "            if(num % value == 0):\n",
    "                return False\n",
    "        return True\n",
    "        \n",
    "primes = list(filter(checkPrime, range(500, 601)))\n",
    "\n",
    "primes2 = [i for i in range(500, 601) if(checkPrime(i))]\n",
    "\n",
    "primes, primes2\n",
    "\n",
    "# Map fails because it does not check condition\n",
    "\n"
   ]
  },
  {
   "cell_type": "code",
   "execution_count": null,
   "metadata": {},
   "outputs": [],
   "source": []
  },
  {
   "cell_type": "markdown",
   "metadata": {},
   "source": [
    "##### Lambda\n",
    "\n",
    " Anonymous functions can be embedded in to lits, maps, filters"
   ]
  },
  {
   "cell_type": "code",
   "execution_count": 73,
   "metadata": {},
   "outputs": [
    {
     "data": {
      "text/plain": [
       "[False, True, False, True, False, True, False, True, False]"
      ]
     },
     "execution_count": 73,
     "metadata": {},
     "output_type": "execute_result"
    }
   ],
   "source": [
    "s = lambda x : x % 2 == 0 \n",
    "\n",
    "# [i for i in range(1,10) if(s(i))]\n",
    "\n",
    "#list(filter(s, range(1, 10)))\n",
    "\n",
    "list(map(s, range(1,10)))"
   ]
  },
  {
   "cell_type": "code",
   "execution_count": null,
   "metadata": {},
   "outputs": [],
   "source": []
  },
  {
   "cell_type": "code",
   "execution_count": 2,
   "metadata": {},
   "outputs": [
    {
     "data": {
      "text/plain": [
       "[12, 7, 12, 12, 17, 9, 17, 12, 17, 13]"
      ]
     },
     "execution_count": 2,
     "metadata": {},
     "output_type": "execute_result"
    }
   ],
   "source": [
    "import random\n",
    "\n",
    "\n",
    "\n",
    "test1 = [random.randint(0, 25) for i in range(1,11)]\n",
    "\n",
    "test2 = [random.randint(0, 25) for i in range(1,11)]\n",
    "\n",
    "test3 = [random.randint(0, 25) for i in range(1,11)]\n",
    "\n",
    "#test1, test2\n",
    "\n",
    "avg = list(map(lambda x, y, z: (x + y + z)//3, test1, test2, test3))\n",
    "\n",
    "#failed = list(filter(lambda x : x < 15, avg))\n",
    "\n",
    "avg"
   ]
  },
  {
   "cell_type": "code",
   "execution_count": null,
   "metadata": {},
   "outputs": [],
   "source": []
  },
  {
   "cell_type": "markdown",
   "metadata": {},
   "source": [
    "#### Applying functional programming to the marks analysis application"
   ]
  },
  {
   "cell_type": "code",
   "execution_count": 25,
   "metadata": {},
   "outputs": [
    {
     "name": "stdout",
     "output_type": "stream",
     "text": [
      "Enter how many students to generate marks: 300\n",
      "Enter min marks: 0\n",
      "Enter max marks: 100\n"
     ]
    }
   ],
   "source": [
    "# Data generation using map, lambda, reduce\n",
    "\n",
    "def dataGeneration(n, lb, ub):\n",
    "    import random\n",
    "    with open(\"DataFiles/marksData.txt\", 'w') as data:\n",
    "        for student in range(n):\n",
    "            value = random.randint(lb, ub)\n",
    "            data.write(str(value)+\"\\n\")\n",
    "            \n",
    "            \n",
    "\n",
    "n = int(input('Enter how many students to generate marks: '))\n",
    "\n",
    "lb = int(input('Enter min marks: '))\n",
    "\n",
    "ub = int(input('Enter max marks: '))\n",
    "\n",
    "#dataGeneration(n, lb, ub)"
   ]
  },
  {
   "cell_type": "code",
   "execution_count": 49,
   "metadata": {},
   "outputs": [],
   "source": [
    "# Caluclating average marks using lambda function\n",
    "\n",
    "def readMarks(filePath):\n",
    "    with open(filePath, 'r') as marks:\n",
    "        marksList =  marks.read().strip().split('\\n')\n",
    "        marksList = list(map(int, marksList))\n",
    "        return marksList\n",
    "    \n",
    "\n",
    "\n",
    "\n",
    "def averageMarks(filePath):\n",
    "    marksList = readMarks(filePath)\n",
    "    return sum(marksList)//len(marksList)\n",
    "    \n",
    "filePath = \"DataFiles/marksData.txt\"\n",
    "\n",
    "#readMarks(\"DataFiles/marksData.txt\")\n",
    "#averageMarks(filePath)      "
   ]
  },
  {
   "cell_type": "code",
   "execution_count": 58,
   "metadata": {},
   "outputs": [
    {
     "data": {
      "text/plain": [
       "36.333333333333336"
      ]
     },
     "execution_count": 58,
     "metadata": {},
     "output_type": "execute_result"
    }
   ],
   "source": [
    "# Class failed percentage\n",
    "\n",
    "def percentageFailed(filePath):\n",
    "    marksList = readMarks(filePath)\n",
    "    failedCount = len(list(filter(lambda mark :  mark < 40, marksList)))\n",
    "    failedPercentage = (failedCount/len(marksList)) * 100\n",
    "    return failedPercentage\n",
    "\n",
    "failePath = \"DataFiles/marksData.txt\"\n",
    "\n",
    "percentageFailed(filePath)"
   ]
  },
  {
   "cell_type": "code",
   "execution_count": 63,
   "metadata": {},
   "outputs": [
    {
     "data": {
      "text/plain": [
       "36.333333333333336"
      ]
     },
     "execution_count": 63,
     "metadata": {},
     "output_type": "execute_result"
    }
   ],
   "source": [
    "# class pass percentage\n",
    "\n",
    "def percentagePassed(filePath):\n",
    "    passed = 100 - round(percentageFailed(filePath))\n",
    "    #passed = 100 - \n",
    "    return passed\n",
    "\n",
    "failePath = \"DataFiles/marksData.txt\"\n",
    "\n",
    "percentageFailed(filePath)"
   ]
  },
  {
   "cell_type": "code",
   "execution_count": null,
   "metadata": {},
   "outputs": [],
   "source": []
  },
  {
   "cell_type": "markdown",
   "metadata": {},
   "source": [
    "### Data Encryption\n",
    "\n",
    "Key - Mapping of characters with  replaced character\n",
    "\n",
    "0  ->  4\n",
    "1  ->  5\n",
    "2  ->  6\n",
    "3  ->  7\n",
    "4  ->  8\n",
    "5  ->  9\n",
    "6  ->  0\n",
    "7  ->  1\n",
    "8  ->  2\n",
    "9  ->  3"
   ]
  },
  {
   "cell_type": "code",
   "execution_count": 66,
   "metadata": {},
   "outputs": [],
   "source": [
    "# Function to generate key for encryption\n",
    "\n",
    "\n",
    "def generateKey(keyPath):\n",
    "    with open(keyPath, 'w') as f:\n",
    "        for value in range(10):\n",
    "            if(value < 6):\n",
    "                f.write(str(value)+\" \"+str(value + 4) + \"\\n\")\n",
    "            else:\n",
    "                f.write(str(value)+ \" \" + str(value-6) + \"\\n\")\n",
    "    \n",
    "    return\n",
    "keyPath = 'DataFiles/key.txt'\n",
    "\n",
    "generateKey(keyPath)"
   ]
  },
  {
   "cell_type": "code",
   "execution_count": 77,
   "metadata": {},
   "outputs": [
    {
     "ename": "IndexError",
     "evalue": "string index out of range",
     "output_type": "error",
     "traceback": [
      "\u001b[1;31m---------------------------------------------------------------------------\u001b[0m",
      "\u001b[1;31mIndexError\u001b[0m                                Traceback (most recent call last)",
      "\u001b[1;32m<ipython-input-77-ec7082b56103>\u001b[0m in \u001b[0;36m<module>\u001b[1;34m\u001b[0m\n\u001b[0;32m     21\u001b[0m \u001b[0mfilePath\u001b[0m \u001b[1;33m=\u001b[0m \u001b[1;34m\"DataFiles/marksData.txt\"\u001b[0m\u001b[1;33m\u001b[0m\u001b[1;33m\u001b[0m\u001b[0m\n\u001b[0;32m     22\u001b[0m \u001b[1;33m\u001b[0m\u001b[0m\n\u001b[1;32m---> 23\u001b[1;33m \u001b[0mmarksDataEncryption\u001b[0m\u001b[1;33m(\u001b[0m\u001b[0mkeyPath\u001b[0m\u001b[1;33m,\u001b[0m \u001b[0mfilePath\u001b[0m\u001b[1;33m)\u001b[0m\u001b[1;33m\u001b[0m\u001b[1;33m\u001b[0m\u001b[0m\n\u001b[0m",
      "\u001b[1;32m<ipython-input-77-ec7082b56103>\u001b[0m in \u001b[0;36mmarksDataEncryption\u001b[1;34m(keyPath, filePath)\u001b[0m\n\u001b[0;32m     12\u001b[0m         \u001b[0mm\u001b[0m \u001b[1;33m=\u001b[0m \u001b[0minfo\u001b[0m\u001b[1;33m.\u001b[0m\u001b[0mread\u001b[0m\u001b[1;33m(\u001b[0m\u001b[1;33m)\u001b[0m\u001b[1;33m.\u001b[0m\u001b[0mstrip\u001b[0m\u001b[1;33m(\u001b[0m\u001b[1;33m)\u001b[0m\u001b[1;33m.\u001b[0m\u001b[0msplit\u001b[0m\u001b[1;33m(\u001b[0m\u001b[1;34m'\\n'\u001b[0m\u001b[1;33m)\u001b[0m\u001b[1;33m\u001b[0m\u001b[1;33m\u001b[0m\u001b[0m\n\u001b[0;32m     13\u001b[0m         \u001b[1;32mfor\u001b[0m \u001b[0mmark\u001b[0m \u001b[1;32min\u001b[0m \u001b[0mm\u001b[0m\u001b[1;33m:\u001b[0m\u001b[1;33m\u001b[0m\u001b[1;33m\u001b[0m\u001b[0m\n\u001b[1;32m---> 14\u001b[1;33m             \u001b[0ms1\u001b[0m \u001b[1;33m=\u001b[0m \u001b[0ms1\u001b[0m \u001b[1;33m+\u001b[0m \u001b[0mmark\u001b[0m\u001b[1;33m[\u001b[0m\u001b[1;36m0\u001b[0m\u001b[1;33m]\u001b[0m\u001b[1;33m.\u001b[0m\u001b[0mreplace\u001b[0m\u001b[1;33m(\u001b[0m\u001b[0mmark\u001b[0m\u001b[1;33m[\u001b[0m\u001b[1;36m0\u001b[0m\u001b[1;33m]\u001b[0m\u001b[1;33m,\u001b[0m \u001b[0mkey\u001b[0m\u001b[1;33m[\u001b[0m\u001b[0mmark\u001b[0m\u001b[1;33m[\u001b[0m\u001b[1;36m0\u001b[0m\u001b[1;33m]\u001b[0m\u001b[1;33m]\u001b[0m\u001b[1;33m)\u001b[0m \u001b[1;33m+\u001b[0m \u001b[0mmark\u001b[0m\u001b[1;33m[\u001b[0m\u001b[1;36m1\u001b[0m\u001b[1;33m]\u001b[0m\u001b[1;33m.\u001b[0m\u001b[0mreplace\u001b[0m\u001b[1;33m(\u001b[0m\u001b[0mmark\u001b[0m\u001b[1;33m[\u001b[0m\u001b[1;36m1\u001b[0m\u001b[1;33m]\u001b[0m\u001b[1;33m,\u001b[0m \u001b[0mkey\u001b[0m\u001b[1;33m[\u001b[0m\u001b[0mmark\u001b[0m\u001b[1;33m[\u001b[0m\u001b[1;36m1\u001b[0m\u001b[1;33m]\u001b[0m\u001b[1;33m]\u001b[0m\u001b[1;33m)\u001b[0m\u001b[1;33m\u001b[0m\u001b[1;33m\u001b[0m\u001b[0m\n\u001b[0m\u001b[0;32m     15\u001b[0m             \u001b[0mmark\u001b[0m \u001b[1;33m=\u001b[0m \u001b[0ms1\u001b[0m\u001b[1;33m\u001b[0m\u001b[1;33m\u001b[0m\u001b[0m\n\u001b[0;32m     16\u001b[0m         \u001b[1;32mreturn\u001b[0m \u001b[0mm\u001b[0m\u001b[1;33m\u001b[0m\u001b[1;33m\u001b[0m\u001b[0m\n",
      "\u001b[1;31mIndexError\u001b[0m: string index out of range"
     ]
    }
   ],
   "source": [
    "def marksDataEncryption(keyPath, filePath):\n",
    "    key = {}\n",
    "    s1 = \"\"\n",
    "    with open(keyPath, 'r') as data:\n",
    "        for line in data:\n",
    "            ip = line.strip().split()\n",
    "            #print(ip)\n",
    "            k, v = ip[0], ip[1]\n",
    "            key[k] = v\n",
    "    #return key\n",
    "    with open(filePath, 'r') as info:\n",
    "        m = info.read().strip().split('\\n')\n",
    "        for mark in m:\n",
    "            s1 = s1 + mark[0].replace(mark[0], key[mark[0]]) + mark[1].replace(mark[1], key[mark[1]])\n",
    "            mark = s1\n",
    "        return m\n",
    "            \n",
    "\n",
    "keyPath = \"DataFiles/key.txt\"\n",
    "\n",
    "filePath = \"DataFiles/marksData.txt\"\n",
    "\n",
    "marksDataEncryption(keyPath, filePath)"
   ]
  },
  {
   "cell_type": "code",
   "execution_count": 75,
   "metadata": {},
   "outputs": [
    {
     "data": {
      "text/plain": [
       "'76'"
      ]
     },
     "execution_count": 75,
     "metadata": {},
     "output_type": "execute_result"
    }
   ],
   "source": []
  },
  {
   "cell_type": "code",
   "execution_count": null,
   "metadata": {},
   "outputs": [],
   "source": []
  }
 ],
 "metadata": {
  "kernelspec": {
   "display_name": "Python 3",
   "language": "python",
   "name": "python3"
  },
  "language_info": {
   "codemirror_mode": {
    "name": "ipython",
    "version": 3
   },
   "file_extension": ".py",
   "mimetype": "text/x-python",
   "name": "python",
   "nbconvert_exporter": "python",
   "pygments_lexer": "ipython3",
   "version": "3.7.3"
  }
 },
 "nbformat": 4,
 "nbformat_minor": 2
}
