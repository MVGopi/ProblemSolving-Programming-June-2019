{
 "cells": [
  {
   "cell_type": "markdown",
   "metadata": {},
   "source": [
    "### Problem Solving & Programming using Python - Day4\n",
    "\n",
    "#### Day Objectives\n",
    "\n",
    "* Python Data Structures\n",
    "        * Lists\n",
    "        * Tuples\n",
    "        * Dictionaries\n",
    "* Basic problem set on Data Structures\n",
    "* Advanced Problem Set\n",
    "* Packages and Modules in Python"
   ]
  },
  {
   "cell_type": "markdown",
   "metadata": {},
   "source": [
    "# Python Data Structures\n",
    "\n",
    "## Lists\n",
    "\n",
    "### Lists can be manipulated in two ways\n",
    "        \n",
    "### Direct referencing --> [index]\n",
    "        \n",
    "### Indirect refencing --> through functions"
   ]
  },
  {
   "cell_type": "code",
   "execution_count": 26,
   "metadata": {},
   "outputs": [
    {
     "data": {
      "text/plain": [
       "26"
      ]
     },
     "execution_count": 26,
     "metadata": {},
     "output_type": "execute_result"
    }
   ],
   "source": [
    "li = [22, 23, 24]          # Creating a list   \n",
    "\n",
    "type(li)                   # Checking data type of a li\n",
    "\n",
    "li                         # Access the entire list\n",
    "\n",
    "li[2]                      # Accessing an element in a list based on index position\n",
    "\n",
    "li[1:]                     # Accessing all  elements from 2nd to last using slicing\n",
    "\n",
    "li = li[::-1]              # Reversing list using slicing and reassignment\n",
    "\n",
    "li[::2]                    # Accessing even index elements\n",
    "\n",
    "li[1::2]                   # Accessing odd index elements\n",
    "\n",
    "li.append(21)             # Adding an element to end of the list\n",
    "\n",
    "li.insert(1,1000)         # Adding element in desired position\n",
    "\n",
    "li.sort()                 # Sorting in ascending order\n",
    "\n",
    "li.pop()                  # Removes last element whatever it removed\n",
    "\n",
    "li.pop(0)                 # Removes element at particular index\n",
    "\n",
    "li2 = [32,33,34]          # Creating another list\n",
    "\n",
    "li.extend(li2)            # Adding elements from li to li2 from the end of li\n",
    "\n",
    "sum(li)                   # Returns sum of all elements in a list\n",
    "\n",
    "max(li)                   # Retruns max value in a given list\n",
    "\n",
    "min(li)                   # Returns min value in a given list\n",
    "\n",
    "len(li)                   # Returns no of values in a given list\n",
    "\n",
    "sum(li)//len(li)          # Average of all elements in list\n",
    "\n",
    "sum(li[::2])//len(li[::2])# Average of all even index positions in a list"
   ]
  },
  {
   "cell_type": "code",
   "execution_count": 43,
   "metadata": {},
   "outputs": [
    {
     "data": {
      "text/plain": [
       "[34, 33, 32, 24, 23, 22]"
      ]
     },
     "execution_count": 43,
     "metadata": {},
     "output_type": "execute_result"
    }
   ],
   "source": [
    "# Function to identify 2nd largest element in list\n",
    "\n",
    "def SecondLargest(li):\n",
    "    li.sort(reverse=True)\n",
    "    return li[1]\n",
    "    \n",
    "SecondLargest(li)"
   ]
  },
  {
   "cell_type": "code",
   "execution_count": 46,
   "metadata": {},
   "outputs": [
    {
     "data": {
      "text/plain": [
       "23"
      ]
     },
     "execution_count": 46,
     "metadata": {},
     "output_type": "execute_result"
    }
   ],
   "source": [
    "# Function to identify generic largest\n",
    "\n",
    "li=[34,33,32,24,23,22]\n",
    "\n",
    "def GenericLargest(li,n):\n",
    "    li.sort(reverse=True)\n",
    "    return li[n-1]\n",
    "\n",
    "GenericLargest(li,5)"
   ]
  },
  {
   "cell_type": "code",
   "execution_count": 53,
   "metadata": {},
   "outputs": [
    {
     "data": {
      "text/plain": [
       "5"
      ]
     },
     "execution_count": 53,
     "metadata": {},
     "output_type": "execute_result"
    }
   ],
   "source": [
    "# Function to search for data in a list\n",
    "\n",
    "def linearSearch(li,key):\n",
    "    for i in range(len(li)):\n",
    "        if(li[i]==key):\n",
    "            return i\n",
    "        else:\n",
    "            continue\n",
    "    return -1\n",
    "        \n",
    "linearSearch(li,22)\n"
   ]
  },
  {
   "cell_type": "code",
   "execution_count": 54,
   "metadata": {},
   "outputs": [
    {
     "data": {
      "text/plain": [
       "5"
      ]
     },
     "execution_count": 54,
     "metadata": {},
     "output_type": "execute_result"
    }
   ],
   "source": [
    "def search(li,key):\n",
    "    if(key in li):\n",
    "        return li.index(key)\n",
    "    else:\n",
    "        return -1\n",
    "\n",
    "search(li,22)"
   ]
  },
  {
   "cell_type": "code",
   "execution_count": null,
   "metadata": {},
   "outputs": [],
   "source": []
  },
  {
   "cell_type": "code",
   "execution_count": 58,
   "metadata": {},
   "outputs": [
    {
     "data": {
      "text/plain": [
       "1"
      ]
     },
     "execution_count": 58,
     "metadata": {},
     "output_type": "execute_result"
    }
   ],
   "source": [
    "# Function to count the occurences of a character in string\n",
    "#\"Python Programming\"-->no of times m repeating\n",
    "\n",
    "def countCharacter(s,c):\n",
    "    return s.count(c)\n",
    "\n",
    "countCharacter(\"Python Programming\",\"i\")"
   ]
  },
  {
   "cell_type": "code",
   "execution_count": 61,
   "metadata": {},
   "outputs": [
    {
     "data": {
      "text/plain": [
       "['__add__',\n",
       " '__class__',\n",
       " '__contains__',\n",
       " '__delattr__',\n",
       " '__dir__',\n",
       " '__doc__',\n",
       " '__eq__',\n",
       " '__format__',\n",
       " '__ge__',\n",
       " '__getattribute__',\n",
       " '__getitem__',\n",
       " '__getnewargs__',\n",
       " '__gt__',\n",
       " '__hash__',\n",
       " '__init__',\n",
       " '__init_subclass__',\n",
       " '__iter__',\n",
       " '__le__',\n",
       " '__len__',\n",
       " '__lt__',\n",
       " '__mod__',\n",
       " '__mul__',\n",
       " '__ne__',\n",
       " '__new__',\n",
       " '__reduce__',\n",
       " '__reduce_ex__',\n",
       " '__repr__',\n",
       " '__rmod__',\n",
       " '__rmul__',\n",
       " '__setattr__',\n",
       " '__sizeof__',\n",
       " '__str__',\n",
       " '__subclasshook__',\n",
       " 'capitalize',\n",
       " 'casefold',\n",
       " 'center',\n",
       " 'count',\n",
       " 'encode',\n",
       " 'endswith',\n",
       " 'expandtabs',\n",
       " 'find',\n",
       " 'format',\n",
       " 'format_map',\n",
       " 'index',\n",
       " 'isalnum',\n",
       " 'isalpha',\n",
       " 'isascii',\n",
       " 'isdecimal',\n",
       " 'isdigit',\n",
       " 'isidentifier',\n",
       " 'islower',\n",
       " 'isnumeric',\n",
       " 'isprintable',\n",
       " 'isspace',\n",
       " 'istitle',\n",
       " 'isupper',\n",
       " 'join',\n",
       " 'ljust',\n",
       " 'lower',\n",
       " 'lstrip',\n",
       " 'maketrans',\n",
       " 'partition',\n",
       " 'replace',\n",
       " 'rfind',\n",
       " 'rindex',\n",
       " 'rjust',\n",
       " 'rpartition',\n",
       " 'rsplit',\n",
       " 'rstrip',\n",
       " 'split',\n",
       " 'splitlines',\n",
       " 'startswith',\n",
       " 'strip',\n",
       " 'swapcase',\n",
       " 'title',\n",
       " 'translate',\n",
       " 'upper',\n",
       " 'zfill']"
      ]
     },
     "execution_count": 61,
     "metadata": {},
     "output_type": "execute_result"
    }
   ],
   "source": [
    "dir(\"string\")"
   ]
  },
  {
   "cell_type": "code",
   "execution_count": null,
   "metadata": {},
   "outputs": [],
   "source": [
    "s=\"abcdefabghab\"\n",
    "\n",
    "x=\"ab\"\n",
    "\n",
    "l=len(x)\n",
    "\n",
    "d=0\n",
    "\n",
    "for i in range(len(s)):\n",
    "    if(s[i:l+1] in s):\n",
    "        d=d+1\n",
    "    else:\n",
    "        continue\n",
    "\n",
    "print(d)\n",
    "        \n"
   ]
  },
  {
   "cell_type": "code",
   "execution_count": 1,
   "metadata": {},
   "outputs": [
    {
     "name": "stdout",
     "output_type": "stream",
     "text": [
      "5\n",
      "-1 -2 0 1 100 1000\n"
     ]
    },
    {
     "data": {
      "text/plain": [
       "0"
      ]
     },
     "execution_count": 1,
     "metadata": {},
     "output_type": "execute_result"
    }
   ],
   "source": [
    "# Function find closest to zero\n",
    "\n",
    "n=int(input())\n",
    "s=input()\n",
    "s=s.split()\n",
    "li=[]\n",
    "for i in s:\n",
    "    li.append((int(i)))\n",
    "\n",
    "def closestzero(li):\n",
    "    if 0 in li:\n",
    "        return 0\n",
    "    else:\n",
    "        li.sort()\n",
    "        pc=[]\n",
    "        nc=[]\n",
    "        for i in li:\n",
    "            if i>0:\n",
    "                pc.append(i)\n",
    "        for i in li:\n",
    "            if i <0:\n",
    "                nc.append(i)\n",
    "        if len(nc)==0:\n",
    "            return min(pc)\n",
    "        elif len(pc) == 0:\n",
    "            return max(nc)\n",
    "        else:\n",
    "            nz=max(nc)\n",
    "            pz=min(pc)\n",
    "            if abs(nz) > pz or abs(nz)==pz:\n",
    "                return pz\n",
    "            else:\n",
    "                return nz\n",
    "closestzero(li)"
   ]
  },
  {
   "cell_type": "code",
   "execution_count": 9,
   "metadata": {},
   "outputs": [
    {
     "name": "stdout",
     "output_type": "stream",
     "text": [
      "2\n"
     ]
    }
   ],
   "source": [
    "# Another logic for closest to zero\n",
    "\n",
    "li = [3,2,-4,-2,-3]\n",
    "\n",
    "li.sort()\n",
    "    \n",
    "numbers = []\n",
    "\n",
    "for i in li:\n",
    "    numbers.append(abs(i))\n",
    "\n",
    "numbers.sort()\n",
    "\n",
    "if(numbers[0] in li):\n",
    "    print(numbers[0])\n",
    "else:\n",
    "    print(-numbers[0])\n",
    "        \n",
    "    "
   ]
  },
  {
   "cell_type": "markdown",
   "metadata": {},
   "source": [
    "### Problem - 3\n",
    "\n",
    "You are given three numbers a,b,c. Write a program to find the largest number which is less than or equal to c and leaves remainder b when divided by a."
   ]
  },
  {
   "cell_type": "code",
   "execution_count": 17,
   "metadata": {},
   "outputs": [
    {
     "name": "stdout",
     "output_type": "stream",
     "text": [
      "3 2 9\n",
      "8\n"
     ]
    }
   ],
   "source": [
    "li = input().split()\n",
    "\n",
    "a, b, c = int(li[0]), int(li[1]), int(li[2])\n",
    "\n",
    "v = 0\n",
    "\n",
    "for i in range(1,c+1):\n",
    "    if(i%a==b):\n",
    "        v = i\n",
    "    else:\n",
    "        continue\n",
    "if(v>0):\n",
    "    print(v)\n",
    "else:\n",
    "    print(-1)\n",
    "        \n"
   ]
  },
  {
   "cell_type": "code",
   "execution_count": null,
   "metadata": {},
   "outputs": [],
   "source": []
  }
 ],
 "metadata": {
  "kernelspec": {
   "display_name": "Python 3",
   "language": "python",
   "name": "python3"
  },
  "language_info": {
   "codemirror_mode": {
    "name": "ipython",
    "version": 3
   },
   "file_extension": ".py",
   "mimetype": "text/x-python",
   "name": "python",
   "nbconvert_exporter": "python",
   "pygments_lexer": "ipython3",
   "version": "3.7.3"
  }
 },
 "nbformat": 4,
 "nbformat_minor": 2
}
