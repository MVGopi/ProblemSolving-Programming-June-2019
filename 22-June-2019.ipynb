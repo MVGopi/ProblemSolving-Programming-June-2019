{
 "cells": [
  {
   "cell_type": "markdown",
   "metadata": {},
   "source": [
    "### File Handling\n",
    "\n",
    "- Reading Data from file\n",
    "\n",
    "    * Character Count \n",
    "\n",
    "    * Line Lount\n",
    "\n",
    "    * Unique Words\n",
    "\n",
    "- Writing data in to file\n",
    "\n",
    "- Appending data in to file"
   ]
  },
  {
   "cell_type": "code",
   "execution_count": 23,
   "metadata": {},
   "outputs": [],
   "source": [
    "# Function to read data from file\n",
    "\n",
    "def readFile(fileLocation):\n",
    "    with open(fileLocation) as f:\n",
    "        for line in f:\n",
    "            line = line.strip()\n",
    "            print(line)\n",
    "    return\n",
    "\n",
    "fileLocation = \"DataFiles/data.txt\" \n",
    "\n",
    "#readFile(fileLocation)"
   ]
  },
  {
   "cell_type": "code",
   "execution_count": 17,
   "metadata": {},
   "outputs": [
    {
     "name": "stdout",
     "output_type": "stream",
     "text": [
      "Advanced MultiSkill Training Program - Online Productivity Tools Problem Solving Using Python Programming Machine Learning Data Science "
     ]
    }
   ],
   "source": [
    "def uniqueWords(fileLocation):\n",
    "    unique = []\n",
    "    with open(fileLocation) as data:\n",
    "        for line in data:\n",
    "            line = line.strip()\n",
    "            wordsList = line.split()\n",
    "            for word in wordsList:\n",
    "                if((wordsList.count(word)==1) and (word not in unique)):\n",
    "                    unique.append(word)\n",
    "                else:\n",
    "                    continue\n",
    "        for w in unique:\n",
    "            print(w, end = \" \")\n",
    "                    \n",
    "                    \n",
    "            \n",
    "\n",
    "\n",
    "fileLocation = \"DataFiles/data.txt\"\n",
    "    \n",
    "uniqueWords(fileLocation)"
   ]
  },
  {
   "cell_type": "code",
   "execution_count": 24,
   "metadata": {},
   "outputs": [
    {
     "name": "stdout",
     "output_type": "stream",
     "text": [
      "Advanced MultiSkill Training Program\n",
      "\n",
      "- Online Productivity Tools\n",
      "\n",
      "- Problem Solving Using Python Programming\n",
      "\n",
      "- Machine Learning\n",
      "\n",
      "- Data Science\n",
      "\n",
      "- Data Science\n"
     ]
    }
   ],
   "source": [
    "readFile(fileLocation)"
   ]
  },
  {
   "cell_type": "code",
   "execution_count": 28,
   "metadata": {},
   "outputs": [
    {
     "name": "stdout",
     "output_type": "stream",
     "text": [
      "0.151KB\n"
     ]
    }
   ],
   "source": [
    "def fileSize(fileLocation):\n",
    "    characters = 0\n",
    "    with open(fileLocation,'r') as f:\n",
    "        for line in f:\n",
    "            line = line.strip()\n",
    "            characters = characters + len(line)\n",
    "        if(characters == 1000):\n",
    "            print(\"1KB\")\n",
    "        elif(characters>=1000 or characters<1000):\n",
    "            a = characters/1000\n",
    "            print(str(a)+\"KB\")\n",
    "    \n",
    "fileLocation = \"DataFiles/data.txt\"\n",
    "\n",
    "fileSize(fileLocation)"
   ]
  },
  {
   "cell_type": "code",
   "execution_count": null,
   "metadata": {},
   "outputs": [],
   "source": []
  },
  {
   "cell_type": "code",
   "execution_count": 30,
   "metadata": {},
   "outputs": [
    {
     "data": {
      "text/plain": [
       "134"
      ]
     },
     "execution_count": 30,
     "metadata": {},
     "output_type": "execute_result"
    }
   ],
   "source": [
    "def charCount(fileLocation):\n",
    "    characters  = 0\n",
    "    with open(fileLocation,'r') as f:\n",
    "        for line in  f:\n",
    "            line = line.strip().split()\n",
    "            for w in line:\n",
    "                characters += len(w)\n",
    "    return characters\n",
    "\n",
    "fileLocation = \"DataFiles/data.txt\"\n",
    "\n",
    "charCount(fileLocation)"
   ]
  },
  {
   "cell_type": "code",
   "execution_count": 32,
   "metadata": {},
   "outputs": [
    {
     "data": {
      "text/plain": [
       "{'name': ['873827', 'hdkjshnd'], 'name1': ['v1', 'v2']}"
      ]
     },
     "execution_count": 32,
     "metadata": {},
     "output_type": "execute_result"
    }
   ],
   "source": [
    "d ={\"name\":[\"873827\",\"hdkjshnd\"],\"name1\":[\"v1\",\"v2\"]}\n",
    "d"
   ]
  },
  {
   "cell_type": "code",
   "execution_count": 39,
   "metadata": {},
   "outputs": [
    {
     "ename": "TypeError",
     "evalue": "'dict_items' object is not subscriptable",
     "output_type": "error",
     "traceback": [
      "\u001b[1;31m---------------------------------------------------------------------------\u001b[0m",
      "\u001b[1;31mTypeError\u001b[0m                                 Traceback (most recent call last)",
      "\u001b[1;32m<ipython-input-39-62707639c934>\u001b[0m in \u001b[0;36m<module>\u001b[1;34m\u001b[0m\n\u001b[1;32m----> 1\u001b[1;33m \u001b[0md\u001b[0m\u001b[1;33m.\u001b[0m\u001b[0mitems\u001b[0m\u001b[1;33m(\u001b[0m\u001b[1;33m)\u001b[0m\u001b[1;33m[\u001b[0m\u001b[1;36m0\u001b[0m\u001b[1;33m]\u001b[0m\u001b[1;33m\u001b[0m\u001b[1;33m\u001b[0m\u001b[0m\n\u001b[0m",
      "\u001b[1;31mTypeError\u001b[0m: 'dict_items' object is not subscriptable"
     ]
    }
   ],
   "source": [
    "d.items()[0]"
   ]
  },
  {
   "cell_type": "code",
   "execution_count": 38,
   "metadata": {},
   "outputs": [
    {
     "ename": "TypeError",
     "evalue": "'dict_items' object is not subscriptable",
     "output_type": "error",
     "traceback": [
      "\u001b[1;31m---------------------------------------------------------------------------\u001b[0m",
      "\u001b[1;31mTypeError\u001b[0m                                 Traceback (most recent call last)",
      "\u001b[1;32m<ipython-input-38-58eef50437d4>\u001b[0m in \u001b[0;36m<module>\u001b[1;34m\u001b[0m\n\u001b[0;32m      1\u001b[0m \u001b[0mx\u001b[0m \u001b[1;33m=\u001b[0m\u001b[0md\u001b[0m\u001b[1;33m.\u001b[0m\u001b[0mitems\u001b[0m\u001b[1;33m(\u001b[0m\u001b[1;33m)\u001b[0m\u001b[1;33m\u001b[0m\u001b[1;33m\u001b[0m\u001b[0m\n\u001b[1;32m----> 2\u001b[1;33m \u001b[0mx\u001b[0m\u001b[1;33m[\u001b[0m\u001b[1;36m0\u001b[0m\u001b[1;33m]\u001b[0m\u001b[1;33m\u001b[0m\u001b[1;33m\u001b[0m\u001b[0m\n\u001b[0m",
      "\u001b[1;31mTypeError\u001b[0m: 'dict_items' object is not subscriptable"
     ]
    }
   ],
   "source": [
    "x =d.items()\n",
    "x[0]"
   ]
  },
  {
   "cell_type": "code",
   "execution_count": null,
   "metadata": {},
   "outputs": [],
   "source": []
  }
 ],
 "metadata": {
  "kernelspec": {
   "display_name": "Python 3",
   "language": "python",
   "name": "python3"
  },
  "language_info": {
   "codemirror_mode": {
    "name": "ipython",
    "version": 3
   },
   "file_extension": ".py",
   "mimetype": "text/x-python",
   "name": "python",
   "nbconvert_exporter": "python",
   "pygments_lexer": "ipython3",
   "version": "3.7.3"
  }
 },
 "nbformat": 4,
 "nbformat_minor": 2
}
