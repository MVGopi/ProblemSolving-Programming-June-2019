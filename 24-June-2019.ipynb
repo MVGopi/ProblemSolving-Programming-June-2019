{
 "cells": [
  {
   "cell_type": "code",
   "execution_count": 9,
   "metadata": {},
   "outputs": [
    {
     "name": "stdout",
     "output_type": "stream",
     "text": [
      "Data\n",
      "['Advanced', 'MultiSkill', 'Training', 'Program']\n"
     ]
    },
    {
     "data": {
      "text/plain": [
       "'Data not existed in the file'"
      ]
     },
     "execution_count": 9,
     "metadata": {},
     "output_type": "execute_result"
    }
   ],
   "source": [
    "# Find and Replace Application\n",
    "    # Count the total number of occurences of a word if word is existing \n",
    "    # Replace all occurences of word with another word \n",
    "def findNumberOfOccurencesOfWord(fileLocation, word):\n",
    "    wordFrequency = 0\n",
    "    with open(fileLocation,'r') as data:\n",
    "        for line in data:\n",
    "            line = line.strip()\n",
    "            wordsList = line.split()\n",
    "            #print(wordsList)\n",
    "            if word in wordsList:\n",
    "                for i in wordsList:\n",
    "                    if(i == word):\n",
    "                        wordFrequency += 1\n",
    "                    else:\n",
    "                        continue\n",
    "            else:\n",
    "                continue\n",
    "        #return word+\" not existed in the file\"\n",
    "    if(wordFrequency == 0):\n",
    "        return word+\" not existed in the file\"\n",
    "    else:\n",
    "        return \"\"\n",
    "\n",
    "fileLocation = \"DataFiles/data.txt\"\n",
    "\n",
    "word = input()\n",
    "\n",
    "findNumberOfOccurencesOfWord(fileLocation, word)\n",
    "\n",
    "\n",
    "                \n",
    "            \n",
    "        \n",
    "        "
   ]
  },
  {
   "cell_type": "code",
   "execution_count": 5,
   "metadata": {},
   "outputs": [
    {
     "name": "stdout",
     "output_type": "stream",
     "text": [
      "Applied Data\n",
      "Data\n",
      "['A']['p']['p']['l']['i']['e']['d'][' ']['D']['a']['t']['a']\n"
     ]
    }
   ],
   "source": [
    "# Function for replacing all occurences of a word in a given file\n",
    "\n",
    "def replaceAllOccurencesOfWord(fileLocation, old_word, new_word):\n",
    "    import re\n",
    "    s2 = \"\"\n",
    "    with open(fileLocation,'r') as data:\n",
    "        for line in data:\n",
    "            line = line.strip()\n",
    "            if(re.findall(\"[D][a][t][a]\",line)):\n",
    "                words = line.split()\n",
    "                for word in range(len(words)):\n",
    "                    if(words[word] == old_word):\n",
    "                        words[word] = new_word\n",
    "                    else:\n",
    "                        words[word]= words[word]\n",
    "                for k in words:\n",
    "                    s2 = s2 + k + \" \"\n",
    "                s2 = s2 + \"\\n\"\n",
    "            else:\n",
    "                s2 = s2 + line + \"\\n\"\n",
    "                continue\n",
    "    with open(fileLocation,'w') as info:\n",
    "        info.write(s2)\n",
    "                    \n",
    "                    \n",
    "            \n",
    "\n",
    "fileLocation = \"DataFiles/data.txt\"\n",
    "\n",
    "old_word = input()\n",
    "\n",
    "new_word = input()\n",
    "\n",
    "\n",
    "replaceAllOccurencesOfWord(fileLocation, old_word, new_word)"
   ]
  },
  {
   "cell_type": "code",
   "execution_count": null,
   "metadata": {},
   "outputs": [],
   "source": []
  },
  {
   "cell_type": "code",
   "execution_count": 9,
   "metadata": {},
   "outputs": [
    {
     "name": "stdout",
     "output_type": "stream",
     "text": [
      "Enter number of students to generate marks report: 60\n",
      "20\n",
      "100\n"
     ]
    }
   ],
   "source": [
    "# Generate marks file n students. That each line in a text file contains one student marks\n",
    "\n",
    "import random\n",
    "\n",
    "def marksFile(N, fileLocation, min_mark, max_mark):\n",
    "    with open(fileLocation,\"a\") as res:\n",
    "        for student in range(1,N+1):\n",
    "            m = random.randint(min_mark, max_mark)\n",
    "            res.write(str(m)+\"\\n\")\n",
    "\n",
    "N = int(input('Enter number of students to generate marks report: '))\n",
    "\n",
    "fileLocation = \"DataFiles/results.txt\"\n",
    "\n",
    "min_mark = int(input())\n",
    "\n",
    "max_mark = int(input())\n",
    "\n",
    "marksFile(N, fileLocation, min_mark, max_mark)\n",
    "        \n",
    "        "
   ]
  },
  {
   "cell_type": "code",
   "execution_count": null,
   "metadata": {},
   "outputs": [],
   "source": []
  },
  {
   "cell_type": "code",
   "execution_count": 12,
   "metadata": {},
   "outputs": [
    {
     "data": {
      "text/plain": [
       "'Class Average Marks: 60.083333333333336'"
      ]
     },
     "execution_count": 12,
     "metadata": {},
     "output_type": "execute_result"
    }
   ],
   "source": [
    "# Function to caluclate class average\n",
    "\n",
    "def classAverage(fileLocation):\n",
    "    total_marks = 0\n",
    "    noOfStudents = 0\n",
    "    with open(fileLocation, \"r\") as marks:\n",
    "        for record in marks:\n",
    "            record = record.strip()\n",
    "            total_marks += int(record)\n",
    "            noOfStudents += 1\n",
    "    return \"Class Average Marks: \"+str(total_marks/noOfStudents)\n",
    "\n",
    "fileLocation = \"DataFiles/results.txt\"\n",
    "\n",
    "classAverage(fileLocation)"
   ]
  },
  {
   "cell_type": "code",
   "execution_count": null,
   "metadata": {},
   "outputs": [],
   "source": []
  },
  {
   "cell_type": "code",
   "execution_count": 19,
   "metadata": {},
   "outputs": [
    {
     "name": "stdout",
     "output_type": "stream",
     "text": [
      "Pass Percentage 71.66666666666667\n",
      "Fail Percentage 28.333333333333332\n"
     ]
    }
   ],
   "source": [
    "# Function to caluclate % of students passed\n",
    "\n",
    "def passNfailPercentage(fileLocation):\n",
    "    noOfStudentsPassed = 0\n",
    "    noOfStudentsFailed = 0\n",
    "    totalStudents = 0\n",
    "    with open(fileLocation, \"r\") as marks:\n",
    "        for record in marks:\n",
    "            record = record.strip()\n",
    "            record = int(record)\n",
    "            if(record>35 and record<=100):\n",
    "                noOfStudentsPassed += 1\n",
    "            else:\n",
    "                noOfStudentsFailed += 1\n",
    "                continue\n",
    "    totalStudents = noOfStudentsPassed + noOfStudentsFailed\n",
    "    print(\"Pass Percentage\",(noOfStudentsPassed/totalStudents)*100)\n",
    "    print(\"Fail Percentage\",(noOfStudentsFailed/totalStudents)*100)\n",
    "\n",
    "\n",
    "fileLocation = \"DataFiles/results.txt\"\n",
    "\n",
    "passNfailPercentage(fileLocation)"
   ]
  },
  {
   "cell_type": "code",
   "execution_count": null,
   "metadata": {},
   "outputs": [],
   "source": []
  },
  {
   "cell_type": "code",
   "execution_count": 21,
   "metadata": {},
   "outputs": [
    {
     "data": {
      "text/plain": [
       "'Percentage of Distinction 33.33333333333333'"
      ]
     },
     "execution_count": 21,
     "metadata": {},
     "output_type": "execute_result"
    }
   ],
   "source": [
    "# Percentage of students with distinction\n",
    "\n",
    "def percentageOfDistinction(fileLocation):\n",
    "    totalStudents = 0\n",
    "    distinction = 0\n",
    "    with open(fileLocation, \"r\") as marks:\n",
    "        for record in marks:\n",
    "            record = record.strip()\n",
    "            record = int(record)\n",
    "            if(record>75):\n",
    "                distinction += 1\n",
    "                totalStudents += 1\n",
    "            else:\n",
    "                totalStudents += 1\n",
    "                \n",
    "    return \"Percentage of Distinction \"+str((distinction/totalStudents)*100)\n",
    "    \n",
    "    \n",
    "\n",
    "fileLocation = \"DataFiles/results.txt\"\n",
    "\n",
    "percentageOfDistinction(fileLocation)"
   ]
  },
  {
   "cell_type": "code",
   "execution_count": null,
   "metadata": {},
   "outputs": [],
   "source": []
  }
 ],
 "metadata": {
  "kernelspec": {
   "display_name": "Python 3",
   "language": "python",
   "name": "python3"
  },
  "language_info": {
   "codemirror_mode": {
    "name": "ipython",
    "version": 3
   },
   "file_extension": ".py",
   "mimetype": "text/x-python",
   "name": "python",
   "nbconvert_exporter": "python",
   "pygments_lexer": "ipython3",
   "version": "3.7.3"
  }
 },
 "nbformat": 4,
 "nbformat_minor": 2
}
