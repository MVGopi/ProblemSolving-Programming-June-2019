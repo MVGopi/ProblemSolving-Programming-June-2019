{
 "cells": [
  {
   "cell_type": "code",
   "execution_count": 2,
   "metadata": {},
   "outputs": [
    {
     "data": {
      "text/plain": [
       "False"
      ]
     },
     "execution_count": 2,
     "metadata": {},
     "output_type": "execute_result"
    }
   ],
   "source": [
    "# Function to check if two strings are anagrams\n",
    "# abc cba -> True\n",
    "# abc abc\n",
    "# aabbcc ccbbaa\n",
    "\n",
    "def checkAnagrams(s1, s2):\n",
    "    if(len(s1) != len(s2)):\n",
    "        return False\n",
    "    if sorted(s1) == sorted(s2):\n",
    "        return True\n",
    "    return False\n",
    "\n",
    "checkAnagrams(\"abc\", \"bcc\")"
   ]
  },
  {
   "cell_type": "code",
   "execution_count": null,
   "metadata": {},
   "outputs": [],
   "source": [
    "# Function to find no of deletions for converting to anagrams\n",
    "\n",
    "t=int(input())\n",
    "def anagrams(a,b):\n",
    "    count=0\n",
    "    l=list(set(a))\n",
    "    m=list(set(b))\n",
    "    for i in l:\n",
    "        count+=abs(a.count(i)-b.count(i))\n",
    "    for i in m:\n",
    "        if i not in l:\n",
    "            count+=abs(a.count(i)-b.count(i))\n",
    "    return count\n",
    "        \n",
    "for i in range(t):\n",
    "    a=input()\n",
    "    b=input()\n",
    "    print(anagrams(a,b))\n",
    "    \n",
    "    "
   ]
  },
  {
   "cell_type": "code",
   "execution_count": null,
   "metadata": {},
   "outputs": [],
   "source": []
  },
  {
   "cell_type": "code",
   "execution_count": 5,
   "metadata": {},
   "outputs": [
    {
     "data": {
      "text/plain": [
       "'b'"
      ]
     },
     "execution_count": 5,
     "metadata": {},
     "output_type": "execute_result"
    }
   ],
   "source": [
    "# Function to find kth largest frequency\n",
    "\n",
    "def kLargestFrequency(s,k):\n",
    "    # Constructing frequency dictionary\n",
    "    freq = {}\n",
    "    for i in s:\n",
    "        if(i not in freq.keys()):\n",
    "            freq[i] = s.count(i)\n",
    "    values = sorted(freq.values(), reverse = True)\n",
    "    uniqueValues = list(set(values))\n",
    "    uniqueValues = sorted(uniqueValues, reverse = True)\n",
    "    #kvalue = uniqueValues[k-1]\n",
    "    if(k<=len(uniqueValues)):\n",
    "        kvalue = uniqueValues[k-1]\n",
    "    else:\n",
    "        return -1\n",
    "    li = []\n",
    "    for item in freq.items():\n",
    "        if(item[1]==kvalue):\n",
    "            li.append(item[0])\n",
    "    return min(li)\n",
    "\n",
    "kLargestFrequency('aabcd',2)\n"
   ]
  },
  {
   "cell_type": "code",
   "execution_count": 7,
   "metadata": {},
   "outputs": [
    {
     "data": {
      "text/plain": [
       "[4, 3, 1]"
      ]
     },
     "execution_count": 7,
     "metadata": {},
     "output_type": "execute_result"
    }
   ],
   "source": []
  },
  {
   "cell_type": "code",
   "execution_count": null,
   "metadata": {},
   "outputs": [],
   "source": []
  }
 ],
 "metadata": {
  "kernelspec": {
   "display_name": "Python 3",
   "language": "python",
   "name": "python3"
  },
  "language_info": {
   "codemirror_mode": {
    "name": "ipython",
    "version": 3
   },
   "file_extension": ".py",
   "mimetype": "text/x-python",
   "name": "python",
   "nbconvert_exporter": "python",
   "pygments_lexer": "ipython3",
   "version": "3.7.3"
  }
 },
 "nbformat": 4,
 "nbformat_minor": 2
}
