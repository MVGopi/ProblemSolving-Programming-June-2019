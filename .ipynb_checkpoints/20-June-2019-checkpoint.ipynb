{
 "cells": [
  {
   "cell_type": "markdown",
   "metadata": {},
   "source": [
    "### Regular Expressions\n",
    "\n",
    "- Pattren Matching\n",
    "- Symbolic Notation of a pattren\n",
    "        \n",
    "            - Pattren : Format which repeats\n",
    "            - Pattren(RE) represents the set of all values\n",
    "            \n",
    "            \n",
    "\n",
    "- [0-9]                                    --> Any digit\n",
    "\n",
    "- [a-z]                                    --> Any lower case alphabet\n",
    "\n",
    "- [2468]                                   --> All single digit multiples of 2\n",
    "\n",
    "- ^[0-9]{1}$                               --> Matches only single digit\n",
    "\n",
    "- ^[1-9][0-9]*0$                           --> All multiples of 10 \n",
    "\n",
    "- ^[1-9][0-9]*[05]{1}$                     -->All mulitples 0f 5\n",
    "\n",
    "- ^[0-9]{10}$                              -->All 10 digit numbers\n",
    "\n",
    "- ^[9876][0-9]{9}$                         --> Validating Indain Phone numbers starts with 9876 and the length                                                     should be 10 digits\n",
    "\n",
    "- [w][o][r][d]                             -->Searching for a word\n",
    "\n",
    "- ^[a-z][a-z0-9.]+@[a-z.]+[a-z]+           -->Emai validation\n",
    "\n",
    "* Email Validation specifications\n",
    "     *USername*\n",
    "        - Length of username : [6,15]\n",
    "        - No special characters other than _ .\n",
    "        - Should not begin with _.\n",
    "        - Character Set: All digits and alphabets\n",
    "     *Domain*\n",
    "        - Length of domain   : [3,18]\n",
    "     *Extension*\n",
    "        - Lenth of extension : []"
   ]
  },
  {
   "cell_type": "code",
   "execution_count": 4,
   "metadata": {},
   "outputs": [
    {
     "name": "stdout",
     "output_type": "stream",
     "text": [
      "YES\n"
     ]
    }
   ],
   "source": []
  },
  {
   "cell_type": "code",
   "execution_count": null,
   "metadata": {},
   "outputs": [],
   "source": []
  }
 ],
 "metadata": {
  "kernelspec": {
   "display_name": "Python 3",
   "language": "python",
   "name": "python3"
  },
  "language_info": {
   "codemirror_mode": {
    "name": "ipython",
    "version": 3
   },
   "file_extension": ".py",
   "mimetype": "text/x-python",
   "name": "python",
   "nbconvert_exporter": "python",
   "pygments_lexer": "ipython3",
   "version": "3.7.3"
  }
 },
 "nbformat": 4,
 "nbformat_minor": 2
}
