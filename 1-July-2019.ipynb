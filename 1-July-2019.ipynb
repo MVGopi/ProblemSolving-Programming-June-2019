{
 "cells": [
  {
   "cell_type": "code",
   "execution_count": 2,
   "metadata": {},
   "outputs": [
    {
     "data": {
      "text/html": [
       "<div>\n",
       "<style scoped>\n",
       "    .dataframe tbody tr th:only-of-type {\n",
       "        vertical-align: middle;\n",
       "    }\n",
       "\n",
       "    .dataframe tbody tr th {\n",
       "        vertical-align: top;\n",
       "    }\n",
       "\n",
       "    .dataframe thead th {\n",
       "        text-align: right;\n",
       "    }\n",
       "</style>\n",
       "<table border=\"1\" class=\"dataframe\">\n",
       "  <thead>\n",
       "    <tr style=\"text-align: right;\">\n",
       "      <th></th>\n",
       "      <th>GEOID</th>\n",
       "      <th>State</th>\n",
       "      <th>2005</th>\n",
       "      <th>2006</th>\n",
       "      <th>2007</th>\n",
       "      <th>2008</th>\n",
       "      <th>2009</th>\n",
       "      <th>2010</th>\n",
       "      <th>2011</th>\n",
       "      <th>2012</th>\n",
       "      <th>2013</th>\n",
       "    </tr>\n",
       "  </thead>\n",
       "  <tbody>\n",
       "    <tr>\n",
       "      <th>0</th>\n",
       "      <td>04000US01</td>\n",
       "      <td>Alabama</td>\n",
       "      <td>37150</td>\n",
       "      <td>37952</td>\n",
       "      <td>42212</td>\n",
       "      <td>44476</td>\n",
       "      <td>39980</td>\n",
       "      <td>40933</td>\n",
       "      <td>42590</td>\n",
       "      <td>43464</td>\n",
       "      <td>41381</td>\n",
       "    </tr>\n",
       "    <tr>\n",
       "      <th>1</th>\n",
       "      <td>04000US02</td>\n",
       "      <td>Alaska</td>\n",
       "      <td>55891</td>\n",
       "      <td>56418</td>\n",
       "      <td>62993</td>\n",
       "      <td>63989</td>\n",
       "      <td>61604</td>\n",
       "      <td>57848</td>\n",
       "      <td>57431</td>\n",
       "      <td>63648</td>\n",
       "      <td>61137</td>\n",
       "    </tr>\n",
       "    <tr>\n",
       "      <th>2</th>\n",
       "      <td>04000US04</td>\n",
       "      <td>Arizona</td>\n",
       "      <td>45245</td>\n",
       "      <td>46657</td>\n",
       "      <td>47215</td>\n",
       "      <td>46914</td>\n",
       "      <td>45739</td>\n",
       "      <td>46896</td>\n",
       "      <td>48621</td>\n",
       "      <td>47044</td>\n",
       "      <td>50602</td>\n",
       "    </tr>\n",
       "    <tr>\n",
       "      <th>3</th>\n",
       "      <td>04000US05</td>\n",
       "      <td>Arkansas</td>\n",
       "      <td>36658</td>\n",
       "      <td>37057</td>\n",
       "      <td>40795</td>\n",
       "      <td>39586</td>\n",
       "      <td>36538</td>\n",
       "      <td>38587</td>\n",
       "      <td>41302</td>\n",
       "      <td>39018</td>\n",
       "      <td>39919</td>\n",
       "    </tr>\n",
       "    <tr>\n",
       "      <th>4</th>\n",
       "      <td>04000US06</td>\n",
       "      <td>California</td>\n",
       "      <td>51755</td>\n",
       "      <td>55319</td>\n",
       "      <td>55734</td>\n",
       "      <td>57014</td>\n",
       "      <td>56134</td>\n",
       "      <td>54283</td>\n",
       "      <td>53367</td>\n",
       "      <td>57020</td>\n",
       "      <td>57528</td>\n",
       "    </tr>\n",
       "  </tbody>\n",
       "</table>\n",
       "</div>"
      ],
      "text/plain": [
       "       GEOID       State   2005   2006   2007   2008   2009   2010   2011  \\\n",
       "0  04000US01     Alabama  37150  37952  42212  44476  39980  40933  42590   \n",
       "1  04000US02      Alaska  55891  56418  62993  63989  61604  57848  57431   \n",
       "2  04000US04     Arizona  45245  46657  47215  46914  45739  46896  48621   \n",
       "3  04000US05    Arkansas  36658  37057  40795  39586  36538  38587  41302   \n",
       "4  04000US06  California  51755  55319  55734  57014  56134  54283  53367   \n",
       "\n",
       "    2012   2013  \n",
       "0  43464  41381  \n",
       "1  63648  61137  \n",
       "2  47044  50602  \n",
       "3  39018  39919  \n",
       "4  57020  57528  "
      ]
     },
     "execution_count": 2,
     "metadata": {},
     "output_type": "execute_result"
    }
   ],
   "source": [
    "# Reading data from CSV files using pandas\n",
    "\n",
    "import pandas as pd\n",
    "\n",
    "def readCSVData(filePath):\n",
    "    return pd.read_csv(filePath)\n",
    "    \n",
    "    \n",
    "filePath = \"DataFiles/Income.csv\"\n",
    "\n",
    "readCSVData(filePath)"
   ]
  },
  {
   "cell_type": "code",
   "execution_count": 36,
   "metadata": {},
   "outputs": [
    {
     "data": {
      "text/plain": [
       "'Average Income :48525'"
      ]
     },
     "execution_count": 36,
     "metadata": {},
     "output_type": "execute_result"
    }
   ],
   "source": [
    "# Function for finding avareage of states income of all years\n",
    "\n",
    "def getStateIncome(df, state):\n",
    "    records = df.values\n",
    "    keys = list(df.head(0))[2:]\n",
    "    state_population = {}\n",
    "    for index in range(len(records)):\n",
    "        if(records[index][1]== state):\n",
    "            pop = list(records[index][2:])\n",
    "    for index in range(len(keys)):\n",
    "        state_population[keys[index]] = pop[index]\n",
    "    return state_population\n",
    "\n",
    "\n",
    "def averageIncome(df):\n",
    "    records = df.values\n",
    "    allStatesPopulation = [] # empty list\n",
    "    count = 0\n",
    "    s = 0\n",
    "    for index in range(len(records)):\n",
    "        state = records[index][1]\n",
    "        populationOfState = getStatePopulation(df, state)\n",
    "        allStatesPopulation.append(populationOfState)\n",
    "    #return allStatesPopulation\n",
    "\n",
    "    for state in allStatesPopulation:\n",
    "        s += sum(state.values())\n",
    "        count += len(state.values())\n",
    "    \n",
    "    return \"Average Income :\"+str(s//count)\n",
    "            \n",
    "        \n",
    "    \n",
    "\n",
    "incomedf = readCSVData(filePath)\n",
    "    \n",
    "averageIncome(incomedf)"
   ]
  },
  {
   "cell_type": "code",
   "execution_count": 35,
   "metadata": {},
   "outputs": [
    {
     "data": {
      "text/plain": [
       "'Average Income Of Last Three Years: 60738'"
      ]
     },
     "execution_count": 35,
     "metadata": {},
     "output_type": "execute_result"
    }
   ],
   "source": [
    "# State with highest average income in last three years\n",
    "\n",
    "def highestAverageIncomeInLastThreeYears(df):\n",
    "    records = df.values\n",
    "    incomeLastThreeYears = {} # empty list\n",
    "    averageIncomes = []\n",
    "    \n",
    "    for row in records:\n",
    "        incomeLastThreeYears[row[1]] = row[-3:]\n",
    "        \n",
    "    for state in incomeLastThreeYears.items():\n",
    "        s = 0\n",
    "        count = 0\n",
    "        s += sum(state[1])\n",
    "        count += len(state[1])\n",
    "        averageIncomes.append(s//count)\n",
    "    highestAverageState  = \"\"\n",
    "    for item in incomeLastThreeYears.items():\n",
    "        if(sum(item[1])//len(item[1]) == max()):\n",
    "            highestAverageState = highestAverageState + item[0]\n",
    "            \n",
    "    return \"Highest Average Income Of Last Three Years: \"+str(max(averageIncomes))\n",
    "        \n",
    "        \n",
    "            \n",
    "    \n",
    "\n",
    "incomedf = readCSVData(filePath)\n",
    "highestAverageIncomeInLastThreeYears(incomedf)"
   ]
  },
  {
   "cell_type": "code",
   "execution_count": 29,
   "metadata": {},
   "outputs": [
    {
     "data": {
      "text/plain": [
       "[4, 5, 6]"
      ]
     },
     "execution_count": 29,
     "metadata": {},
     "output_type": "execute_result"
    }
   ],
   "source": [
    "li = [1,2,3,4,5,6]\n",
    "li[-3:]"
   ]
  },
  {
   "cell_type": "code",
   "execution_count": null,
   "metadata": {},
   "outputs": [],
   "source": []
  }
 ],
 "metadata": {
  "kernelspec": {
   "display_name": "Python 3",
   "language": "python",
   "name": "python3"
  },
  "language_info": {
   "codemirror_mode": {
    "name": "ipython",
    "version": 3
   },
   "file_extension": ".py",
   "mimetype": "text/x-python",
   "name": "python",
   "nbconvert_exporter": "python",
   "pygments_lexer": "ipython3",
   "version": "3.7.3"
  }
 },
 "nbformat": 4,
 "nbformat_minor": 2
}
