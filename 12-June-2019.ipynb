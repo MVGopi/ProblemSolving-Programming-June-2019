{
 "cells": [
  {
   "cell_type": "markdown",
   "metadata": {},
   "source": [
    "### String Slicing"
   ]
  },
  {
   "cell_type": "code",
   "execution_count": 37,
   "metadata": {},
   "outputs": [
    {
     "data": {
      "text/plain": [
       "'th'"
      ]
     },
     "execution_count": 37,
     "metadata": {},
     "output_type": "execute_result"
    }
   ],
   "source": [
    "s1 = \"Programming\"\n",
    "\n",
    "s2 = \"python\"\n",
    "\n",
    "s1[0],s1[1],s1[2],s1[3],s1[4]\n",
    "\n",
    "s1[0:4] #Accessing first four characters\n",
    "\n",
    "s1[-4:] #Accessing last four characters\n",
    "\n",
    "s1[4:] #Accessing from 4th position to end of the string\n",
    "\n",
    "s1[1:-1] #Accessing all characters except first and last characters\n",
    "\n",
    "s1[len(s1)//2] #Accessing middle character of string having odd length\n",
    "\n",
    "s1[-1::-1] #Reverse a string\n",
    "\n",
    "s1[-1:-3:-1] #Accessing last two characters in reverse order\n",
    "\n",
    "s2[len(s2)//2-1:len(s2)//2+1] #Reverse the middle two characters in a even length string\n",
    "\n",
    "s2[::-2] # Acessing alternate characters from string in reverse order"
   ]
  },
  {
   "cell_type": "code",
   "execution_count": null,
   "metadata": {},
   "outputs": [],
   "source": []
  },
  {
   "cell_type": "markdown",
   "metadata": {},
   "source": [
    "### Functions"
   ]
  },
  {
   "cell_type": "code",
   "execution_count": 40,
   "metadata": {},
   "outputs": [
    {
     "name": "stdout",
     "output_type": "stream",
     "text": [
      "Enter a string: venkata gopi\n"
     ]
    },
    {
     "data": {
      "text/plain": [
       "'ipog ataknev'"
      ]
     },
     "execution_count": 40,
     "metadata": {},
     "output_type": "execute_result"
    }
   ],
   "source": [
    "# Function which takes a input string and reverses it\n",
    "\n",
    "def reverseString():\n",
    "    s1 = input('Enter a string: ')\n",
    "    res = s1[::-1]\n",
    "    return res\n",
    "\n",
    "reverseString()"
   ]
  },
  {
   "cell_type": "code",
   "execution_count": 41,
   "metadata": {},
   "outputs": [
    {
     "name": "stdout",
     "output_type": "stream",
     "text": [
      "Enter a string: wow\n"
     ]
    },
    {
     "data": {
      "text/plain": [
       "'wow is palindrome'"
      ]
     },
     "execution_count": 41,
     "metadata": {},
     "output_type": "execute_result"
    }
   ],
   "source": [
    "# Function to check the given string palindrome or not\n",
    "\n",
    "def palindrome(s):\n",
    "    rev=s[::-1]\n",
    "    if(s==rev):\n",
    "        return s+\" is palindrome\"\n",
    "    else:\n",
    "        return s+\" is not palindrome \"\n",
    "    \n",
    "\n",
    "s=input('Enter a string: ')\n",
    "\n",
    "palindrome(s)"
   ]
  },
  {
   "cell_type": "code",
   "execution_count": 3,
   "metadata": {},
   "outputs": [
    {
     "name": "stdout",
     "output_type": "stream",
     "text": [
      "Enter year: 2016\n"
     ]
    },
    {
     "data": {
      "text/plain": [
       "'2016 is a leap year'"
      ]
     },
     "execution_count": 3,
     "metadata": {},
     "output_type": "execute_result"
    }
   ],
   "source": [
    "# Function to check whether a given year is leap or not\n",
    "\n",
    "def leapYear(y):\n",
    "    if(y%400 == 0 or(y%100 != 0 and y%4 == 0)):\n",
    "        return str(y)+\" is a leap year\"\n",
    "    else:\n",
    "        return str(y)+\" is not leap year\"\n",
    "\n",
    "y = int(input('Enter year: '))\n",
    "\n",
    "leapYear(y)\n",
    "        "
   ]
  },
  {
   "cell_type": "code",
   "execution_count": 23,
   "metadata": {},
   "outputs": [
    {
     "name": "stdout",
     "output_type": "stream",
     "text": [
      "Enter min value: 2000\n",
      "Enter max value: 2020\n",
      "2000 2004 2008 2012 2016 2020 "
     ]
    }
   ],
   "source": [
    "# Function to generate leap years between given range\n",
    "\n",
    "def NLeapYears(min,max):\n",
    "    for i in range(min,max+1):\n",
    "        if(leapYear(i)==str(i)+\" is a leap year\"):\n",
    "            print(i,end=\" \")\n",
    "        else:\n",
    "            continue\n",
    "\n",
    "\n",
    "min = int(input('Enter min value: '))\n",
    "\n",
    "max = int(input('Enter max value: '))\n",
    "\n",
    "NLeapYears(min,max)"
   ]
  },
  {
   "cell_type": "code",
   "execution_count": 25,
   "metadata": {},
   "outputs": [
    {
     "name": "stdout",
     "output_type": "stream",
     "text": [
      "Enter min value: 2018\n",
      "Enter max value: 2019\n"
     ]
    },
    {
     "data": {
      "text/plain": [
       "730"
      ]
     },
     "execution_count": 25,
     "metadata": {},
     "output_type": "execute_result"
    }
   ],
   "source": [
    "# Function to caluclate no of days in given time period using leap year\n",
    "\n",
    "def NoOfDays(min,max):\n",
    "    days=0\n",
    "    for i in range(min,max+1):\n",
    "        if(leapYear(i)==str(i)+\" is a leap year\"):\n",
    "            days=days+366\n",
    "        else:\n",
    "            days=days+365\n",
    "    return days\n",
    "\n",
    "min = int(input('Enter min value: '))\n",
    "\n",
    "max = int(input('Enter max value: '))\n",
    "\n",
    "NoOfDays(min,max)\n",
    "            "
   ]
  },
  {
   "cell_type": "code",
   "execution_count": 51,
   "metadata": {},
   "outputs": [
    {
     "name": "stdout",
     "output_type": "stream",
     "text": [
      "Enter any number more than three digit: 374893479\n"
     ]
    },
    {
     "data": {
      "text/plain": [
       "9"
      ]
     },
     "execution_count": 51,
     "metadata": {},
     "output_type": "execute_result"
    }
   ],
   "source": [
    "# Function to count the number of digits in a given number\n",
    "\n",
    "def numberCount(n):\n",
    "    c = len(str(n))\n",
    "    return c\n",
    "            \n",
    "\n",
    "n = int(input('Enter any number more than three digit: '))\n",
    "\n",
    "numberCount(n)"
   ]
  },
  {
   "cell_type": "code",
   "execution_count": 1,
   "metadata": {},
   "outputs": [
    {
     "name": "stdout",
     "output_type": "stream",
     "text": [
      "Enter number1: 4\n",
      "Enter number2: 5\n",
      "Enter number3: 7\n",
      "Enter number4: 9\n"
     ]
    },
    {
     "data": {
      "text/plain": [
       "'9 is greatest of given four numbers'"
      ]
     },
     "execution_count": 1,
     "metadata": {},
     "output_type": "execute_result"
    }
   ],
   "source": [
    "# Function to identify the greatest of 4 numbers\n",
    "\n",
    "def greatestOfNumbers(n1,n2,n3,n4):\n",
    "    if(n1>n2 and n1>n3 and n1>n4):\n",
    "        return str(n1)+\" is greatest of given four numbers\"\n",
    "    elif(n2>n3 and n2>n4):\n",
    "        return str(n2)+\" is greatest of given four numbers\"\n",
    "    elif(n3>n4):\n",
    "        return str(n3)+\" is greatest of given four numbers\"\n",
    "    else:\n",
    "        return str(n4)+\" is greatest of given four numbers\"\n",
    "        \n",
    "n1 = int(input('Enter number1: '))\n",
    "\n",
    "n2 = int(input('Enter number2: '))\n",
    "\n",
    "n3 = int(input('Enter number3: '))\n",
    "\n",
    "n4 = int(input('Enter number4: '))\n",
    "\n",
    "greatestOfNumbers(n1,n2,n3,n4)"
   ]
  },
  {
   "cell_type": "code",
   "execution_count": null,
   "metadata": {},
   "outputs": [],
   "source": []
  },
  {
   "cell_type": "markdown",
   "metadata": {},
   "source": [
    "### Iterations\n",
    "\n",
    "* for\n",
    "\n",
    "* while"
   ]
  },
  {
   "cell_type": "code",
   "execution_count": 4,
   "metadata": {},
   "outputs": [
    {
     "name": "stdout",
     "output_type": "stream",
     "text": [
      "Enter a value: 8\n",
      "1 2 3 4 5 6 7 8 "
     ]
    }
   ],
   "source": [
    "# Function to print n numbers using for loop\n",
    "\n",
    "def numbers(n):\n",
    "    for i in range(1,n+1):\n",
    "        print(i,end = \" \")\n",
    "\n",
    "n = int(input('Enter a value: '))\n",
    "\n",
    "numbers(n)"
   ]
  },
  {
   "cell_type": "code",
   "execution_count": 6,
   "metadata": {},
   "outputs": [
    {
     "name": "stdout",
     "output_type": "stream",
     "text": [
      "Enter a value: 10\n",
      "1 2 3 4 5 6 7 8 9 10 "
     ]
    }
   ],
   "source": [
    "# Function to print n numbers using while loop\n",
    "\n",
    "def numbers(n):\n",
    "    i=1\n",
    "    while(i<=n):\n",
    "        print(i,end=\" \")\n",
    "        i += 1\n",
    "\n",
    "n = int(input('Enter a value: '))\n",
    "\n",
    "numbers(n)"
   ]
  },
  {
   "cell_type": "code",
   "execution_count": 11,
   "metadata": {},
   "outputs": [
    {
     "name": "stdout",
     "output_type": "stream",
     "text": [
      "Enter min value: 6\n",
      "Enter max value: 60\n",
      "6 12 18 24 30 36 42 48 54 60 "
     ]
    }
   ],
   "source": [
    "# Function to print all numbers divided by 6 and not a factor of 100 in a given range(min,max)\n",
    "\n",
    "def divisibleFactor(min,max):\n",
    "    for i in range(min,max+1):\n",
    "        if(i%6==0 and 100%i!=0):\n",
    "            print(i,end = \" \")\n",
    "        else:\n",
    "            continue\n",
    "\n",
    "min = int(input('Enter min value: '))\n",
    "\n",
    "max = int(input('Enter max value: '))\n",
    "\n",
    "divisibleFactor(min,max)"
   ]
  },
  {
   "cell_type": "code",
   "execution_count": null,
   "metadata": {},
   "outputs": [],
   "source": []
  },
  {
   "cell_type": "code",
   "execution_count": 16,
   "metadata": {},
   "outputs": [
    {
     "name": "stdout",
     "output_type": "stream",
     "text": [
      "Enter min value: 1\n",
      "Enter max value: 5\n"
     ]
    },
    {
     "data": {
      "text/plain": [
       "36"
      ]
     },
     "execution_count": 16,
     "metadata": {},
     "output_type": "execute_result"
    }
   ],
   "source": [
    "# Function to find average of cubes all even numbers in a given range\n",
    "\n",
    "def cubesAverage(min,max):\n",
    "    s=0\n",
    "    c=0\n",
    "    for i in range(min,max+1):\n",
    "        if(i%2==0):\n",
    "            s=s+i**3\n",
    "            c+=1\n",
    "            avg=s//c\n",
    "        else:\n",
    "            continue\n",
    "    return avg\n",
    "\n",
    "min = int(input('Enter min value: '))\n",
    "\n",
    "max = int(input('Enter max value: '))\n",
    "\n",
    "cubesAverage(min,max)\n",
    "            \n"
   ]
  },
  {
   "cell_type": "code",
   "execution_count": 15,
   "metadata": {},
   "outputs": [
    {
     "name": "stdout",
     "output_type": "stream",
     "text": [
      "Enter number: 6\n"
     ]
    },
    {
     "data": {
      "text/plain": [
       "6"
      ]
     },
     "execution_count": 15,
     "metadata": {},
     "output_type": "execute_result"
    }
   ],
   "source": [
    "# Function to generate list of factors for a given number\n",
    "\n",
    "def listOfFactors(n):\n",
    "    s=0\n",
    "    for i in range(1,n):\n",
    "        if(n%i==0):\n",
    "            #print(i,end=\" \")\n",
    "            s=s+i\n",
    "        else:\n",
    "            continue\n",
    "    return s\n",
    "            \n",
    "n = int(input('Enter number: '))\n",
    "\n",
    "listOfFactors(n)"
   ]
  },
  {
   "cell_type": "code",
   "execution_count": 2,
   "metadata": {},
   "outputs": [
    {
     "name": "stdout",
     "output_type": "stream",
     "text": [
      "Enter number: 2\n"
     ]
    },
    {
     "data": {
      "text/plain": [
       "2"
      ]
     },
     "execution_count": 2,
     "metadata": {},
     "output_type": "execute_result"
    }
   ],
   "source": [
    "# Function to caluclate  factorial of a given number\n",
    "\n",
    "def factorial(n):\n",
    "    f=1\n",
    "    for i in range(n,1,-1):\n",
    "            f = f * i\n",
    "            \n",
    "    return f\n",
    "\n",
    "n = int(input('Enter number: '))\n",
    "\n",
    "factorial(n)\n",
    "        "
   ]
  },
  {
   "cell_type": "code",
   "execution_count": 19,
   "metadata": {},
   "outputs": [
    {
     "name": "stdout",
     "output_type": "stream",
     "text": [
      "Enter min value: 1\n",
      "Enter max value: 500\n",
      "6 28 496 "
     ]
    }
   ],
   "source": [
    "# Function to generate N perfect Numbers \n",
    "\n",
    "def Isperfect(min,max):\n",
    "    for i in range(min,max):\n",
    "        if(listOfFactors(i)==i):\n",
    "            print(i,end=\" \")\n",
    "        else:\n",
    "            continue\n",
    "\n",
    "min = int(input('Enter min value: '))\n",
    "\n",
    "max = int(input('Enter max value: '))\n",
    "\n",
    "Isperfect(min,max)\n",
    "        "
   ]
  },
  {
   "cell_type": "code",
   "execution_count": null,
   "metadata": {},
   "outputs": [],
   "source": [
    "# Function to caluclate the average of all perfect numbers\n",
    "\n",
    "def perfectNumbers(n):\n",
    "    s=0\n",
    "    c=0\n",
    "    while(n>0):\n",
    "        for i in range(1,n+1):\n",
    "            if(n%i==0):\n",
    "                s=s+i\n",
    "                c=c+1\n",
    "            else:\n",
    "                continue\n",
    "        if(s==n):\n",
    "            avg=s//c\n",
    "            break\n",
    "    return avg\n",
    "\n",
    "n = int(input('Enter number: '))\n",
    "\n",
    "perfectNumbers(n)\n",
    "\n",
    "            "
   ]
  },
  {
   "cell_type": "code",
   "execution_count": null,
   "metadata": {},
   "outputs": [],
   "source": []
  },
  {
   "cell_type": "code",
   "execution_count": 5,
   "metadata": {},
   "outputs": [
    {
     "name": "stdout",
     "output_type": "stream",
     "text": [
      "Enter min value: 1\n",
      "Enter max value: 5\n"
     ]
    },
    {
     "data": {
      "text/plain": [
       "30"
      ]
     },
     "execution_count": 5,
     "metadata": {},
     "output_type": "execute_result"
    }
   ],
   "source": [
    "# Function to generate all factorials in a given range\n",
    "\n",
    "def AvgOfFactorials(min,max):\n",
    "    s=0\n",
    "    c=0\n",
    "    for i in range(min,max+1):\n",
    "        v=factorial(i)\n",
    "        s=s+v\n",
    "        c=c+1\n",
    "        avg=s//c\n",
    "    return avg\n",
    "\n",
    "min = int(input('Enter min value: '))\n",
    "\n",
    "max = int(input('Enter max value: '))\n",
    "\n",
    "AvgOfFactorials(min,max)\n",
    "        \n",
    "    \n",
    "    "
   ]
  },
  {
   "cell_type": "code",
   "execution_count": null,
   "metadata": {},
   "outputs": [],
   "source": []
  },
  {
   "cell_type": "code",
   "execution_count": 1,
   "metadata": {},
   "outputs": [
    {
     "name": "stdout",
     "output_type": "stream",
     "text": [
      "Enter number: 371\n"
     ]
    },
    {
     "data": {
      "text/plain": [
       "True"
      ]
     },
     "execution_count": 1,
     "metadata": {},
     "output_type": "execute_result"
    }
   ],
   "source": [
    "# Function to check whether given number is armstrong or not\n",
    "\n",
    "def armstrong(n):\n",
    "    n=str(n)\n",
    "    s=0\n",
    "    for i in n:\n",
    "        i=int(i)\n",
    "        s=s+i**3\n",
    "    if(s==int(n)):\n",
    "        return True\n",
    "    else:\n",
    "        return False\n",
    "    \n",
    "\n",
    "n = int(input('Enter number: '))\n",
    "\n",
    "armstrong(n)\n",
    "\n",
    "\n",
    "            \n",
    "        \n",
    "        \n",
    "    \n",
    "    \n",
    "    \n",
    "    "
   ]
  },
  {
   "cell_type": "code",
   "execution_count": 6,
   "metadata": {},
   "outputs": [
    {
     "name": "stdout",
     "output_type": "stream",
     "text": [
      "Enter min value: 1\n",
      "Enter max value: 500\n",
      "1 153 371 407 "
     ]
    }
   ],
   "source": [
    "# Function to generate N odd armstrong numbers(sum of cubes of digits equal to the given number)\n",
    "\n",
    "def NarmstrongNumbers(min,max):\n",
    "    for i in range(min,max+1):\n",
    "        if(armstrong(i)==True and i%2==1):\n",
    "            print(i,end=\" \")\n",
    "        else:\n",
    "            continue\n",
    "\n",
    "            \n",
    "min = int(input('Enter min value: '))\n",
    "\n",
    "max = int(input('Enter max value: '))\n",
    "\n",
    "NarmstrongNumbers(min,max)"
   ]
  },
  {
   "cell_type": "code",
   "execution_count": null,
   "metadata": {},
   "outputs": [],
   "source": []
  },
  {
   "cell_type": "code",
   "execution_count": 4,
   "metadata": {},
   "outputs": [
    {
     "name": "stdout",
     "output_type": "stream",
     "text": [
      "Enter nummber: 100\n",
      "Enter max value: 110\n",
      "Enter a value to print table: 10\n",
      "10 * 100 = 1000\n",
      "10 * 101 = 1010\n",
      "10 * 102 = 1020\n",
      "10 * 103 = 1030\n",
      "10 * 104 = 1040\n",
      "10 * 105 = 1050\n",
      "10 * 106 = 1060\n",
      "10 * 107 = 1070\n",
      "10 * 108 = 1080\n",
      "10 * 109 = 1090\n",
      "10 * 110 = 1100\n"
     ]
    }
   ],
   "source": [
    "# Function to generate multiplication table in a given range\n",
    "\n",
    "def table(min,max,n):\n",
    "    for i in range(min,max+1):\n",
    "        print(n,'*',i,'=',n*i)\n",
    "\n",
    "min = int(input('Enter nummber: '))\n",
    "\n",
    "max = int(input('Enter max value: '))\n",
    "\n",
    "n = int(input('Enter a value to print table: '))\n",
    "\n",
    "table(min,max,n)"
   ]
  },
  {
   "cell_type": "code",
   "execution_count": null,
   "metadata": {},
   "outputs": [],
   "source": []
  },
  {
   "cell_type": "code",
   "execution_count": 4,
   "metadata": {},
   "outputs": [
    {
     "name": "stdout",
     "output_type": "stream",
     "text": [
      "Enter start year1975\n",
      "Enter end year: 1999\n"
     ]
    },
    {
     "data": {
      "text/plain": [
       "201624"
      ]
     },
     "execution_count": 4,
     "metadata": {},
     "output_type": "execute_result"
    }
   ],
   "source": [
    "# Function to caloclate number  of hours for a given time period\n",
    "\n",
    "def NoOfHours(start_year,end_year):\n",
    "    hours=0\n",
    "    for i in range(start_year+1,end_year):\n",
    "        if(leapYear(i)==str(i)+\" is a leap year\"):\n",
    "            hours=hours+366*24\n",
    "        else:\n",
    "            hours=hours+365*24\n",
    "    return hours\n",
    "\n",
    "start_year = int(input('Enter start year'))\n",
    "\n",
    "#start_month = int(input('Enter start month'))\n",
    "\n",
    "end_year = int(input('Enter end year: '))\n",
    "\n",
    "#end_month = int(input('Enter end month: '))\n",
    "\n",
    "NoOfHours(start_year,end_year)\n",
    "    \n",
    "            \n",
    "    \n",
    "    "
   ]
  },
  {
   "cell_type": "markdown",
   "metadata": {},
   "source": []
  }
 ],
 "metadata": {
  "kernelspec": {
   "display_name": "Python 3",
   "language": "python",
   "name": "python3"
  },
  "language_info": {
   "codemirror_mode": {
    "name": "ipython",
    "version": 3
   },
   "file_extension": ".py",
   "mimetype": "text/x-python",
   "name": "python",
   "nbconvert_exporter": "python",
   "pygments_lexer": "ipython3",
   "version": "3.7.3"
  }
 },
 "nbformat": 4,
 "nbformat_minor": 2
}
