{
 "cells": [
  {
   "cell_type": "markdown",
   "metadata": {},
   "source": [
    "##### You are given an array containing N distinct integers.You perform the following \n",
    "#### operations on this array\n",
    "\n",
    "##### For each pair of integers find the absolute difference between those integers and insert D \n",
    "##### in to the array if it was not already present \n",
    "\n",
    "#### You repeat task 1 until the array becomes constant. This implies that the absolute differenece\n",
    "##### between any two elements in the array is  also an element present in the array\n",
    "\n",
    "#####  Write a program to find the kth largest element of the array after all operations have beeen \n",
    "#####  performed. If there is no such element print -1\n",
    "\n",
    "**Input Format**\n",
    "\n",
    "- First line no of test cases = 2\n",
    "\n",
    "- First line in each test case represent array length = 5\n",
    "\n",
    "- Second line in each test case N space seperated integers = 1 5 5 6 7\n",
    "\n",
    "- Third line in each test case reperesent kth value = 2\n",
    "\n",
    "\n",
    "**Output Format**\n",
    "\n",
    "Kth largest value = 6\n"
   ]
  },
  {
   "cell_type": "code",
   "execution_count": null,
   "metadata": {},
   "outputs": [],
   "source": [
    "# Function to find kth largest \n",
    "\n",
    "def kthlargest(T, K):\n",
    "    for test in range(T):\n",
    "        N = int(input())\n",
    "        numbers = input().split()\n",
    "        for i in range(N):\n",
    "            numbers[i] = int(numbers[i])\n",
    "        for index in range(len(numbers)):\n",
    "            D = abs(numbers[index]-numbers[index+1])\n",
    "            if D not in numbers:\n",
    "                numbers.append(D)\n",
    "        freq = {}\n",
    "        for value in numbers:\n",
    "            freq[value] = numbers.count(value)\n",
    "        print(freq.values())\n",
    "        uniqueValues = list(set(freq.values()))\n",
    "        uniqueValues.sort(reverse=True)\n",
    "        if(k <= len(uniqueValues)):\n",
    "            kvalue = uniqueValues(k-1)\n",
    "        else:\n",
    "            return -1\n",
    "        FreqSame = []\n",
    "        for item in freq.items():\n",
    "            if(item[1]==kvalue):\n",
    "                FreqSame.append(item[0])\n",
    "        if(len(FreqSame)==1):\n",
    "            return FreqSame[0]\n",
    "        elif(len(FreqSame)>1):\n",
    "            return min(FreqSame)\n",
    "        elif(len(FreqSame)==0):\n",
    "            return -1\n",
    "        \n",
    "        print(uniqueValues)\n",
    "\n",
    "kthlargest(2, 2)       "
   ]
  },
  {
   "cell_type": "code",
   "execution_count": null,
   "metadata": {},
   "outputs": [],
   "source": []
  },
  {
   "cell_type": "code",
   "execution_count": 21,
   "metadata": {},
   "outputs": [
    {
     "name": "stdout",
     "output_type": "stream",
     "text": [
      "1 2 3\n",
      "1 2 4\n",
      "1 2 5\n",
      "1 3 4\n",
      "1 3 5\n",
      "1 4 5\n",
      "2 3 4\n",
      "2 3 5\n",
      "2 4 5\n",
      "3 4 5\n"
     ]
    }
   ],
   "source": [
    "# Function to print all combinations for a given list\n",
    "\n",
    "# [1,2,3] --> (1,2),(1,3),(2,3) --->  3C2 --> 3\n",
    "\n",
    "# [1,2,3,4] --> (1,2),(1,3),(1,4),(2,3),(2,4),(3,4)\n",
    "\n",
    "# [1,2,3,4] --> (1,2,3),(1,2,4),(1,3,4)\n",
    "\n",
    "# n! / r! * (n-r)!\n",
    "\n",
    "def combinations(li):\n",
    "    for i in range(len(li)-1):\n",
    "        for j in range(i+1, len(li)):\n",
    "            for k in range(j+1, len(li)):\n",
    "                print(li[i], li[j], li[k])\n",
    "    return\n",
    "        \n",
    "\n",
    "combinations([1,2,3,4,5])"
   ]
  },
  {
   "cell_type": "code",
   "execution_count": 25,
   "metadata": {},
   "outputs": [
    {
     "name": "stdout",
     "output_type": "stream",
     "text": [
      "[7, 6, 5, 4, 3, 2, 1]\n"
     ]
    },
    {
     "data": {
      "text/plain": [
       "5"
      ]
     },
     "execution_count": 25,
     "metadata": {},
     "output_type": "execute_result"
    }
   ],
   "source": [
    "#[1,2,3] --> [1,2,3]\n",
    "\n",
    "# Pair Differenc should not be in input list\n",
    "\n",
    "def differencePairs(li):\n",
    "    combdiff = li\n",
    "    newElements = []\n",
    "    for i in range(len(li)-1):\n",
    "        for j in range(i+1, len(li)):\n",
    "            D = abs(li[i]-li[j])\n",
    "            if(D not in combdiff and D not in newElements):\n",
    "                newElements.append(D)\n",
    "    return li+newElements\n",
    "\n",
    "def constantList(v,n):\n",
    "    k = differencePairs(v)\n",
    "    while True:\n",
    "        c = differencePairs(k)\n",
    "        if(k == c):\n",
    "            #return c\n",
    "            break\n",
    "        else:\n",
    "            for m in c:\n",
    "                if(m not in k):\n",
    "                    k.append(m)\n",
    "    k.sort(reverse = True)\n",
    "    print(k)\n",
    "    return k[n-1]\n",
    "\n",
    "constantList([1,2,4,7,6],3)"
   ]
  },
  {
   "cell_type": "code",
   "execution_count": null,
   "metadata": {},
   "outputs": [],
   "source": []
  },
  {
   "cell_type": "code",
   "execution_count": null,
   "metadata": {},
   "outputs": [],
   "source": []
  },
  {
   "cell_type": "code",
   "execution_count": null,
   "metadata": {
    "scrolled": true
   },
   "outputs": [],
   "source": []
  },
  {
   "cell_type": "code",
   "execution_count": 18,
   "metadata": {},
   "outputs": [
    {
     "data": {
      "text/plain": [
       "[1, 5, 9, 13, 17, 21]"
      ]
     },
     "execution_count": 18,
     "metadata": {},
     "output_type": "execute_result"
    }
   ],
   "source": [
    "# Arthimetic Progression is the diffrence between consecutive numbers should be same then \n",
    "### we can conclude that the series is in Arthimetric Progression\n",
    "\n",
    "def arthimeticProgression(li):\n",
    "    a = li[0]\n",
    "    diff = abs(li[0]-li[1])\n",
    "    for i in range(1,len(li)-1):\n",
    "        if(li[i] != a):\n",
    "            D = abs(li[i]-li[i+1])\n",
    "            if(D > diff):\n",
    "                v = D - diff\n",
    "                li[i+1] = li[i+1]-v\n",
    "            elif(D < diff):\n",
    "                v = diff - D\n",
    "                li[i+1] = li[i+1]+v\n",
    "            elif(D == diff):\n",
    "                continue\n",
    "    return li\n",
    "                \n",
    "\n",
    "arthimeticProgression([1,5,8,19,26,37])"
   ]
  },
  {
   "cell_type": "code",
   "execution_count": null,
   "metadata": {},
   "outputs": [],
   "source": []
  },
  {
   "cell_type": "markdown",
   "metadata": {},
   "source": [
    "### Set - Data Structure in Python\n",
    "\n",
    "* Represented by {}\n",
    "\n",
    "* Set data is not indexed unordered with unique data"
   ]
  },
  {
   "cell_type": "code",
   "execution_count": 39,
   "metadata": {},
   "outputs": [
    {
     "data": {
      "text/plain": [
       "{1, 2, 3, 4, 5, 6, 7, 8, 10, 11, 12, 21, 22, 23}"
      ]
     },
     "execution_count": 39,
     "metadata": {},
     "output_type": "execute_result"
    }
   ],
   "source": [
    "a = {1,2,3,4,5,6,7}      # set\n",
    "\n",
    "a.add(8)                 # Adding element into set\n",
    "\n",
    "#for i in a:\n",
    "    #print(i, end = \" \")  # Accessing element from set\n",
    "    \n",
    "b  = {10,11,12,13}\n",
    "\n",
    "li = [21, 22, 23]\n",
    "\n",
    "a.update(b,li)           # Adding more than one value\n",
    "\n",
    "a.discard(13)            # Removing value from set\n",
    "\n",
    "a"
   ]
  },
  {
   "cell_type": "markdown",
   "metadata": {},
   "source": [
    "a = {1,2,3,4,5,6,7}\n",
    "b = {2,1,3,4,5,6}\n",
    "\n",
    "a.union(b)\n",
    "\n",
    "b.union(a)                # A U B == B U A\n",
    "\n",
    "a.intersection(b)  \n",
    "\n",
    "b.intersection(a)         # A N B == B N A\n",
    "\n",
    "a.isdisjoint(b)           # Checks both sets having same eleemnts or not\n",
    "\n",
    "a - b                     # All elements of a which are not in b (a - a n b)\n",
    "\n",
    "b - a                     # All elements of b which are not in a\n",
    "\n",
    "sorted(a)                 # Arranging in order\n",
    "\n",
    "a ^ b                     # Uncommon elements\n",
    "\n",
    "data = set()              # Empty Set\n",
    "\n",
    "set([1,2,3,1,4,5,6,2,8])  # extracting unique data from list using set"
   ]
  },
  {
   "cell_type": "code",
   "execution_count": null,
   "metadata": {},
   "outputs": [],
   "source": []
  },
  {
   "cell_type": "markdown",
   "metadata": {},
   "source": [
    "#### Functional Programming\n",
    "\n",
    "-Functional programming paradigm - a style of building structure and elements of computer  programs\n",
    "\n",
    "**List Comprehensions**"
   ]
  },
  {
   "cell_type": "code",
   "execution_count": 56,
   "metadata": {},
   "outputs": [
    {
     "data": {
      "text/plain": [
       "[1, 8, 27, 64, 125, 216, 343, 512, 729, 1000]"
      ]
     },
     "execution_count": 56,
     "metadata": {},
     "output_type": "execute_result"
    }
   ],
   "source": [
    "# List of N natural numbers\n",
    "\n",
    "[i for i in range(1,11)]\n",
    "\n",
    "# Apply list comprehension to store the cubes of n natural numbers\n",
    "\n",
    "[i**3  for i in range(1,11)]"
   ]
  },
  {
   "cell_type": "code",
   "execution_count": 61,
   "metadata": {},
   "outputs": [
    {
     "data": {
      "text/plain": [
       "[1, 2, 6, 24, 120, 720, 5040, 40320, 362880, 3628800]"
      ]
     },
     "execution_count": 61,
     "metadata": {},
     "output_type": "execute_result"
    }
   ],
   "source": [
    "# Function to caluclate the factorial\n",
    "\n",
    "def factorial(n):\n",
    "    f = 1\n",
    "    while(n >= 1):\n",
    "        f = f * (n)\n",
    "        n -= 1\n",
    "    return f\n",
    "\n",
    "# Apply list comprehension to list to clauclate factorial of n numbers\n",
    "\n",
    "[factorial(i) for i in range(1,11)]"
   ]
  },
  {
   "cell_type": "code",
   "execution_count": 75,
   "metadata": {},
   "outputs": [
    {
     "data": {
      "text/plain": [
       "[1, 3, 6, 10, 15]"
      ]
     },
     "execution_count": 75,
     "metadata": {},
     "output_type": "execute_result"
    }
   ],
   "source": [
    "# Store cumulative sum of numbers till n in a list\n",
    "\n",
    "cumulativeSum = [sum(range(1,i+1)) for i in range(1,6)]\n",
    "\n",
    "cumulativeSum"
   ]
  },
  {
   "cell_type": "code",
   "execution_count": null,
   "metadata": {},
   "outputs": [],
   "source": []
  },
  {
   "cell_type": "code",
   "execution_count": 90,
   "metadata": {},
   "outputs": [
    {
     "data": {
      "text/plain": [
       "[1972, 1976, 1980, 1984, 1988, 1992, 1996, 2000, 2004, 2008, 2012, 2016]"
      ]
     },
     "execution_count": 90,
     "metadata": {},
     "output_type": "execute_result"
    }
   ],
   "source": [
    "# Function to store only leap years in a given time period\n",
    "\n",
    "[i  for i in range(1970, 2019+1) if(i%400 == 0 or (i % 100 != 0 and i % 4 == 0))]"
   ]
  },
  {
   "cell_type": "code",
   "execution_count": 167,
   "metadata": {},
   "outputs": [
    {
     "data": {
      "text/plain": [
       "[1, 2, 3, 4, 5]"
      ]
     },
     "execution_count": 167,
     "metadata": {},
     "output_type": "execute_result"
    }
   ],
   "source": [
    "li = [1,2,3,2,1,4,4,5,6,6]\n",
    "\n",
    "[i for i in range(1,max(li)+1) if li[i-1]!=li[i]] "
   ]
  },
  {
   "cell_type": "code",
   "execution_count": null,
   "metadata": {},
   "outputs": [],
   "source": [
    "### Iterators - Strings, range(), list, tuple, set"
   ]
  },
  {
   "cell_type": "code",
   "execution_count": 150,
   "metadata": {},
   "outputs": [
    {
     "name": "stdout",
     "output_type": "stream",
     "text": [
      "y\n",
      "h\n",
      "n\n"
     ]
    }
   ],
   "source": [
    "it = iter('Python')\n",
    "\n",
    "for i in it:\n",
    "    print(next(it))"
   ]
  },
  {
   "cell_type": "code",
   "execution_count": 154,
   "metadata": {},
   "outputs": [
    {
     "data": {
      "text/plain": [
       "(1, 2)"
      ]
     },
     "execution_count": 154,
     "metadata": {},
     "output_type": "execute_result"
    }
   ],
   "source": [
    "set = {1,2,3}\n",
    "\n",
    "it = iter(set)\n",
    "\n",
    "next(it), next(it)"
   ]
  },
  {
   "cell_type": "markdown",
   "metadata": {},
   "source": [
    "#### Generator \n",
    "\n",
    "generator is a user defined function it allows us to do start and end of execution"
   ]
  },
  {
   "cell_type": "code",
   "execution_count": 172,
   "metadata": {},
   "outputs": [
    {
     "data": {
      "text/plain": [
       "(2, 8, 512)"
      ]
     },
     "execution_count": 172,
     "metadata": {},
     "output_type": "execute_result"
    }
   ],
   "source": [
    "def generator():\n",
    "    n = 2\n",
    "    yield n\n",
    "    \n",
    "    n = n ** 3\n",
    "    \n",
    "    yield n\n",
    "    \n",
    "    n = n ** 3\n",
    "    \n",
    "    yield n\n",
    "    \n",
    "a = generator()\n",
    "\n",
    "next(a), next(a), next(a)"
   ]
  },
  {
   "cell_type": "code",
   "execution_count": 182,
   "metadata": {},
   "outputs": [
    {
     "name": "stdout",
     "output_type": "stream",
     "text": [
      "8\n",
      "512\n",
      "134217728\n",
      "2417851639229258349412352\n",
      "14134776518227074636666380005943348126619871175004951664972849610340958208\n"
     ]
    }
   ],
   "source": [
    "\n",
    "def generator2():\n",
    "    n = 2\n",
    "    while True:\n",
    "        n **= 3\n",
    "        yield n\n",
    "        \n",
    "a = generator2()\n",
    "\n",
    "for i in range(5):\n",
    "    print(next(a))"
   ]
  },
  {
   "cell_type": "code",
   "execution_count": null,
   "metadata": {},
   "outputs": [],
   "source": []
  },
  {
   "cell_type": "code",
   "execution_count": null,
   "metadata": {},
   "outputs": [],
   "source": []
  }
 ],
 "metadata": {
  "kernelspec": {
   "display_name": "Python 3",
   "language": "python",
   "name": "python3"
  },
  "language_info": {
   "codemirror_mode": {
    "name": "ipython",
    "version": 3
   },
   "file_extension": ".py",
   "mimetype": "text/x-python",
   "name": "python",
   "nbconvert_exporter": "python",
   "pygments_lexer": "ipython3",
   "version": "3.7.3"
  }
 },
 "nbformat": 4,
 "nbformat_minor": 2
}
