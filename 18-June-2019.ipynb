{
 "cells": [
  {
   "cell_type": "code",
   "execution_count": null,
   "metadata": {},
   "outputs": [],
   "source": [
    "# Write a program to find a special number having atleast P distinct prime numbers and the number should be a factor of given number\n",
    "\n",
    "#1. Function to check prime\n",
    "\n",
    "def isPrime(num):\n",
    "    flag = 1\n",
    "    if(num==2):\n",
    "        return \"prime\"\n",
    "    else:\n",
    "        for i in range(2, num):\n",
    "            if(num%i == 0):\n",
    "                flag = 0\n",
    "                return \"not prime\"\n",
    "        if(flag == 1):\n",
    "            return \"prime\"\n",
    "\n",
    "\n",
    "#2. Function to determine no of prime factors for a given number\n",
    "\n",
    "def noofPrimeFactors(n):\n",
    "    count = 0\n",
    "    '''if(isPrime(n) == \"prime\"):\n",
    "        return 1'''\n",
    "    for i in range(2, n):\n",
    "        if(isPrime(i) == \"prime\"  and n%i == 0):\n",
    "            count += 1\n",
    "    return count\n",
    "\n",
    "#3. Function to determine special number or not\n",
    "\n",
    "def specialNumber(P, n):\n",
    "        if(noofPrimeFactors(n) >= P):\n",
    "            return \"YES\"\n",
    "        else:\n",
    "            return \"NO\"\n",
    "    \n",
    "\n",
    "P = int(input())\n",
    "\n",
    "n = int(input())\n",
    "\n",
    "specialNumber(P, n)"
   ]
  },
  {
   "cell_type": "code",
   "execution_count": null,
   "metadata": {},
   "outputs": [],
   "source": [
    "# Function to a genrate number which gives the highest remainder when divisible by that number\n",
    "\n",
    "def highestRemainder():\n",
    "    v=0\n",
    "    h = 0\n",
    "    t = int(input())\n",
    "    for i in range(t):\n",
    "        num = int(input())\n",
    "        for j in range(1,num):\n",
    "            v1=num%j\n",
    "            if(v1>v):\n",
    "                v=v1\n",
    "                h=j\n",
    "            elif(v1==v):\n",
    "                h=j-1\n",
    "        print(h)\n",
    "        \n",
    "highestRemainder()\n",
    "                "
   ]
  },
  {
   "cell_type": "code",
   "execution_count": null,
   "metadata": {},
   "outputs": [],
   "source": [
    "# Play with numbers\n",
    "\n",
    "ip1 = input().split()\n",
    "\n",
    "S, T = int(ip1[0]), int(ip1[1])\n",
    "\n",
    "numbers = input().split()\n",
    "\n",
    "for i in range(S):\n",
    "    numbers[i]=int(numbers[i])\n",
    "    \n",
    "for j in range(T):\n",
    "    s = input().split()\n",
    "    p1, p2 = int(s[0]), int(s[1])\n",
    "    sub_list = numbers[p1-1:p2]\n",
    "    print(sum(sub_list)//len(sub_list))\n"
   ]
  },
  {
   "cell_type": "code",
   "execution_count": null,
   "metadata": {},
   "outputs": [],
   "source": []
  },
  {
   "cell_type": "markdown",
   "metadata": {},
   "source": [
    "### Tuples\n",
    "\n",
    "- Differenec b/w tuples and lists\n",
    "        - list is declared in []\n",
    "        - tuple is delared in ()\n",
    "        - Once the tuple is created we cannot make any changes just we can access the existing data from tuple"
   ]
  },
  {
   "cell_type": "code",
   "execution_count": null,
   "metadata": {},
   "outputs": [],
   "source": [
    "t1 = (1, 2, 3, 4, 5) # tuple\n",
    "\n",
    "t1[0:]               # slicing \n",
    "\n",
    "t1[len(t1)//2:]      # Accessing data from a mid value\n"
   ]
  },
  {
   "cell_type": "code",
   "execution_count": null,
   "metadata": {},
   "outputs": [],
   "source": []
  },
  {
   "cell_type": "markdown",
   "metadata": {},
   "source": [
    "### Dictionaries\n",
    "\n",
    "- It works on the concept of set unique data\n",
    "\n",
    "- Dictionary is unordered collection of data\n",
    "\n",
    "- Dictionary contains key & value seperated by : and each key&value pair is seperated by , and all the items are     declared in dictionary.\n"
   ]
  },
  {
   "cell_type": "code",
   "execution_count": null,
   "metadata": {},
   "outputs": [],
   "source": [
    "d1 = {'k1' : 'v1', 'k2' : 'v2', 'k3' : 'v3'} # Creating dictionary\n",
    "\n",
    "d1['k3']                                     # Accessing value based on key\n",
    "\n",
    "d1.keys()                                    # Accessing all the keys from the dictionary\n",
    "\n",
    "d1.items()                                   # Accessing all the items from the dictionary"
   ]
  },
  {
   "cell_type": "markdown",
   "metadata": {},
   "source": [
    "### Contacts Application\n",
    "\n",
    "- Add Contact\n",
    "- Search for Contact\n",
    "- List all Contacts\n",
    "- Modify Contacts\n",
    "- Remove Contact"
   ]
  },
  {
   "cell_type": "code",
   "execution_count": null,
   "metadata": {},
   "outputs": [],
   "source": [
    "contacts = {}                                      # Empty dictionary\n",
    "\n",
    "def addContact(name, number):\n",
    "    contacts[name] = number\n",
    "        \n",
    "\n",
    "#addContact(\"venkat\",666666666)\n",
    "\n",
    "\n",
    "    "
   ]
  },
  {
   "cell_type": "code",
   "execution_count": null,
   "metadata": {},
   "outputs": [],
   "source": [
    "def searchContact(name):\n",
    "    if name in contacts:\n",
    "        print(name, ':', contacts[name])\n",
    "    else:\n",
    "        print(\"Contacts %s not existed\" % name)\n",
    "\n",
    "searchContact(\"venkatagopi\")"
   ]
  },
  {
   "cell_type": "code",
   "execution_count": null,
   "metadata": {},
   "outputs": [],
   "source": [
    "def listContacts():\n",
    "    for i in contacts.items():\n",
    "        print(i[0], '-', i[1])\n",
    "\n",
    "listContacts()"
   ]
  },
  {
   "cell_type": "code",
   "execution_count": null,
   "metadata": {},
   "outputs": [],
   "source": [
    "def updateContacts(name, number):\n",
    "    if name in contacts:\n",
    "        contacts[name] = number\n",
    "    else:\n",
    "        print(\"Contact %s not existed\" % name)\n",
    "\n",
    "updateContacts(\"vijay\", 5555555)"
   ]
  },
  {
   "cell_type": "code",
   "execution_count": null,
   "metadata": {},
   "outputs": [],
   "source": [
    "contacts"
   ]
  },
  {
   "cell_type": "code",
   "execution_count": null,
   "metadata": {},
   "outputs": [],
   "source": [
    "def removeContacts(name):\n",
    "    if name in contacts:\n",
    "        contacts.pop(name)\n",
    "    else:\n",
    "        print(\"Contact %s not existed\" % name)\n",
    "\n",
    "removeContacts(\"sairam\")\n",
    "        \n",
    "    "
   ]
  },
  {
   "cell_type": "code",
   "execution_count": null,
   "metadata": {},
   "outputs": [],
   "source": [
    "contacts"
   ]
  },
  {
   "cell_type": "code",
   "execution_count": null,
   "metadata": {},
   "outputs": [],
   "source": []
  },
  {
   "cell_type": "markdown",
   "metadata": {},
   "source": [
    "### Packages & Modules\n",
    "\n",
    "**Package** ---> Collection of Modules(Python File .py) and subpackages\n",
    "\n",
    "**Module** --->A single python file containing functions\n",
    "\n",
    "**Packages --> Subpackages --> Modules --> Functions**"
   ]
  },
  {
   "cell_type": "code",
   "execution_count": 76,
   "metadata": {},
   "outputs": [
    {
     "data": {
      "text/plain": [
       "1.5374753309166493"
      ]
     },
     "execution_count": 76,
     "metadata": {},
     "output_type": "execute_result"
    }
   ],
   "source": [
    "import math\n",
    "\n",
    "math.floor(123.456)    # ModuleName.FunctionName(Parameters)\n",
    "\n",
    "math.gcd(10,20)        # Caluclating gcd of two numbers\n",
    "\n",
    "math.floor(math.pi)    # gives pi value\n",
    "\n",
    "math.sqrt(25)          #  Caluclates the squareroot of a given number\n"
   ]
  },
  {
   "cell_type": "code",
   "execution_count": null,
   "metadata": {},
   "outputs": [],
   "source": []
  },
  {
   "cell_type": "code",
   "execution_count": 82,
   "metadata": {},
   "outputs": [
    {
     "name": "stdout",
     "output_type": "stream",
     "text": [
      "45 46 68 51 41 73 69 76 58 1 83 57 84 47 48 50 25 28 61 39 86 10 14 97 54 33 72 81 50 42 27 1 27 77 10 1 68 71 41 59 21 40 91 85 7 18 53 91 28 27 14 97 73 90 48 53 62 92 19 72 73 64 51 99 53 45 31 97 48 36 62 56 15 6 93 9 65 7 52 14 80 47 91 40 63 12 22 69 18 61 52 49 44 94 36 85 69 75 97 26 "
     ]
    }
   ],
   "source": [
    "# Define a function to generate N random numbers\n",
    "\n",
    "import random\n",
    "\n",
    "def nRandomNumbers(lb,ub):\n",
    "    for i in range(ub):\n",
    "        random_value = random.randint(lb,ub)\n",
    "        print(random_value, end = \" \")\n",
    "        \n",
    "nRandomNumbers(1,100)"
   ]
  },
  {
   "cell_type": "code",
   "execution_count": null,
   "metadata": {},
   "outputs": [],
   "source": []
  },
  {
   "cell_type": "code",
   "execution_count": 5,
   "metadata": {},
   "outputs": [
    {
     "data": {
      "text/plain": [
       "3"
      ]
     },
     "execution_count": 5,
     "metadata": {},
     "output_type": "execute_result"
    }
   ],
   "source": [
    "from packages import numerical\n",
    "\n",
    "numerical.isPrime(7)\n",
    "\n",
    "numerical.noofPrimeFactors(10100)"
   ]
  },
  {
   "cell_type": "code",
   "execution_count": null,
   "metadata": {},
   "outputs": [],
   "source": []
  }
 ],
 "metadata": {
  "kernelspec": {
   "display_name": "Python 3",
   "language": "python",
   "name": "python3"
  },
  "language_info": {
   "codemirror_mode": {
    "name": "ipython",
    "version": 3
   },
   "file_extension": ".py",
   "mimetype": "text/x-python",
   "name": "python",
   "nbconvert_exporter": "python",
   "pygments_lexer": "ipython3",
   "version": "3.7.3"
  }
 },
 "nbformat": 4,
 "nbformat_minor": 2
}
