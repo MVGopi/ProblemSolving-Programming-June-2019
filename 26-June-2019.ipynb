{
 "cells": [
  {
   "cell_type": "code",
   "execution_count": 4,
   "metadata": {},
   "outputs": [
    {
     "name": "stdout",
     "output_type": "stream",
     "text": [
      "Second Largest: 4\n"
     ]
    }
   ],
   "source": [
    "# Function to find the second largest number in a list\n",
    "\n",
    "def secondLargest(li):\n",
    "    # Convert the list in to a unique list\n",
    "    unique = []\n",
    "    for num in li:\n",
    "        if(num not in unique):\n",
    "            unique.append(num)\n",
    "    unique.sort(reverse = True)\n",
    "    \n",
    "    print(\"Second Largest:\",unique[1])\n",
    "\n",
    "secondLargest([1,2,3,3,4,5])"
   ]
  },
  {
   "cell_type": "code",
   "execution_count": 12,
   "metadata": {},
   "outputs": [
    {
     "name": "stdout",
     "output_type": "stream",
     "text": [
      "not exists\n"
     ]
    }
   ],
   "source": [
    "def nthLargest(li,n):\n",
    "    # Convert the list in to a unique list\n",
    "    unique = []\n",
    "    if(n <= len(li)):\n",
    "        for num in li:\n",
    "            if(num not in unique):\n",
    "                unique.append(num)\n",
    "        unique.sort(reverse = True)\n",
    "    \n",
    "        print(unique[n-1])\n",
    "    else:\n",
    "        print(\"not exists\")\n",
    "\n",
    "nthLargest([1],5)"
   ]
  },
  {
   "cell_type": "code",
   "execution_count": 2,
   "metadata": {},
   "outputs": [
    {
     "name": "stdout",
     "output_type": "stream",
     "text": [
      "not exists\n"
     ]
    }
   ],
   "source": [
    "def nthSmallest(li,n):\n",
    "    # Convert the list in to a unique list\n",
    "    unique = []\n",
    "    if(n <= len(li)):\n",
    "        for num in li:\n",
    "            if(num not in unique):\n",
    "                unique.append(num)\n",
    "        # Sort the list in ascending order\n",
    "        unique.sort()\n",
    "        print(unique)\n",
    "    \n",
    "        print(unique[n-1])\n",
    "    else:\n",
    "        print(\"not exists\")\n",
    "\n",
    "nthSmallest([1,8,6,8,4,3],7)"
   ]
  },
  {
   "cell_type": "code",
   "execution_count": 62,
   "metadata": {},
   "outputs": [
    {
     "name": "stdout",
     "output_type": "stream",
     "text": [
      "[3, 3, 1, 3, 1]\n",
      "[1, 2, 4]\n"
     ]
    },
    {
     "data": {
      "text/plain": [
       "4"
      ]
     },
     "execution_count": 62,
     "metadata": {},
     "output_type": "execute_result"
    }
   ],
   "source": [
    "# Function to identify the element with highest frequency in a list\n",
    "# If 2 elements have highest frequency return the largest\n",
    "\n",
    "def highestFrequency(li):\n",
    "    elementFreq = [] # empty list\n",
    "    h = []\n",
    "    for value in li:\n",
    "        if(value not in h):\n",
    "            elementFreq.append(li.count(value))\n",
    "            h.append(value)\n",
    "    print(elementFreq)\n",
    "        \n",
    "    ele = [] # elements having largest frequency same    \n",
    "    for v in li:\n",
    "        if(max(elementFreq) == li.count(v) and v not in ele):\n",
    "            ele.append(v)\n",
    "    print(ele)\n",
    "    ele.sort(reverse=True)\n",
    "    if(len(ele)>1):\n",
    "        return max(ele)\n",
    "    else:\n",
    "        return ele[0]\n",
    "    \n",
    "    \n",
    "highestFrequency([1,2,3,4,1,7,1,2,2,4,4])   "
   ]
  },
  {
   "cell_type": "code",
   "execution_count": 1,
   "metadata": {},
   "outputs": [],
   "source": [
    "# Kth highest frquency of a character from a given string \n",
    "#if there are more than one character then print smallest one or if there no such characters \n",
    "#print -1\n",
    "\n",
    "def kLargestFrequency(li,k):\n",
    "    # Constructing frequency dictionary\n",
    "    freq = {}\n",
    "    for i in li:\n",
    "        if(i not in freq.keys()):\n",
    "            freq[i] = li.count(i)\n",
    "    values = sorted(freq.values(), reverse = True)\n",
    "    #print(values)\n",
    "    uniqueValues = list(set(values))\n",
    "    uniqueValues = sorted(uniqueValues, reverse = True)\n",
    "    #print(uniqueValues)\n",
    "    if(k<=len(uniqueValues)):\n",
    "        kvalue = uniqueValues[k-1]\n",
    "    else:\n",
    "        return -1\n",
    "    li = []\n",
    "    for item in freq.items():\n",
    "        if(item[1]==kvalue):\n",
    "            li.append(item[0])\n",
    "    #print(li)\n",
    "    return min(li)\n",
    "\n",
    "#kLargestFrequency([1,2,4,1,3,4,1,5,4],2)\n",
    "\n",
    "\n",
    "        "
   ]
  },
  {
   "cell_type": "code",
   "execution_count": 1,
   "metadata": {
    "scrolled": false
   },
   "outputs": [
    {
     "ename": "NameError",
     "evalue": "name 'kLargestFrequency' is not defined",
     "output_type": "error",
     "traceback": [
      "\u001b[1;31m---------------------------------------------------------------------------\u001b[0m",
      "\u001b[1;31mNameError\u001b[0m                                 Traceback (most recent call last)",
      "\u001b[1;32m<ipython-input-1-ad83700563d2>\u001b[0m in \u001b[0;36m<module>\u001b[1;34m\u001b[0m\n\u001b[0;32m      9\u001b[0m         \u001b[0ms\u001b[0m \u001b[1;33m=\u001b[0m \u001b[0mdata\u001b[0m\u001b[1;33m.\u001b[0m\u001b[0mreadline\u001b[0m\u001b[1;33m(\u001b[0m\u001b[1;33m)\u001b[0m\u001b[1;33m\u001b[0m\u001b[1;33m\u001b[0m\u001b[0m\n\u001b[0;32m     10\u001b[0m         \u001b[0mk\u001b[0m \u001b[1;33m=\u001b[0m \u001b[0mint\u001b[0m\u001b[1;33m(\u001b[0m\u001b[0mdata\u001b[0m\u001b[1;33m.\u001b[0m\u001b[0mreadline\u001b[0m\u001b[1;33m(\u001b[0m\u001b[1;33m)\u001b[0m\u001b[1;33m)\u001b[0m\u001b[1;33m\u001b[0m\u001b[1;33m\u001b[0m\u001b[0m\n\u001b[1;32m---> 11\u001b[1;33m         \u001b[0mprint\u001b[0m\u001b[1;33m(\u001b[0m\u001b[0mkLargestFrequency\u001b[0m\u001b[1;33m(\u001b[0m\u001b[0ms\u001b[0m\u001b[1;33m,\u001b[0m \u001b[0mk\u001b[0m\u001b[1;33m)\u001b[0m\u001b[1;33m)\u001b[0m\u001b[1;33m\u001b[0m\u001b[1;33m\u001b[0m\u001b[0m\n\u001b[0m\u001b[0;32m     12\u001b[0m \u001b[1;33m\u001b[0m\u001b[0m\n\u001b[0;32m     13\u001b[0m \u001b[1;33m\u001b[0m\u001b[0m\n",
      "\u001b[1;31mNameError\u001b[0m: name 'kLargestFrequency' is not defined"
     ]
    }
   ],
   "source": [
    "with open(\"DataFiles/klargest.txt\",'r') as data:\n",
    "    '''info = data.readlines()\n",
    "    #T = int(info[0])\n",
    "    s = info[len(info)-2]\n",
    "    k = int(len(info)-1)\n",
    "    print(kLargestFrequency(s, k))'''\n",
    "    t = int(data.readline())\n",
    "    for i in range(t+1):\n",
    "        s = data.readline()\n",
    "        k = int(data.readline())\n",
    "        print(kLargestFrequency(s, k))\n",
    "        \n",
    "    \n",
    "        \n",
    "        \n",
    "    \n",
    "    \n",
    "        "
   ]
  },
  {
   "cell_type": "code",
   "execution_count": null,
   "metadata": {},
   "outputs": [],
   "source": []
  }
 ],
 "metadata": {
  "kernelspec": {
   "display_name": "Python 3",
   "language": "python",
   "name": "python3"
  },
  "language_info": {
   "codemirror_mode": {
    "name": "ipython",
    "version": 3
   },
   "file_extension": ".py",
   "mimetype": "text/x-python",
   "name": "python",
   "nbconvert_exporter": "python",
   "pygments_lexer": "ipython3",
   "version": "3.7.3"
  }
 },
 "nbformat": 4,
 "nbformat_minor": 2
}
