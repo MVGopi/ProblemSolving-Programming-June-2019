{
 "cells": [
  {
   "cell_type": "code",
   "execution_count": 4,
   "metadata": {},
   "outputs": [
    {
     "name": "stdout",
     "output_type": "stream",
     "text": [
      "Second Largest: 4\n"
     ]
    }
   ],
   "source": [
    "# Function to find the second largest number in a list\n",
    "\n",
    "def secondLargest(li):\n",
    "    # Convert the list in to a unique list\n",
    "    unique = []\n",
    "    for num in li:\n",
    "        if(num not in unique):\n",
    "            unique.append(num)\n",
    "    unique.sort(reverse = True)\n",
    "    \n",
    "    print(\"Second Largest:\",unique[1])\n",
    "\n",
    "secondLargest([1,2,3,3,4,5])"
   ]
  },
  {
   "cell_type": "code",
   "execution_count": 12,
   "metadata": {},
   "outputs": [
    {
     "name": "stdout",
     "output_type": "stream",
     "text": [
      "not exists\n"
     ]
    }
   ],
   "source": [
    "def nthLargest(li,n):\n",
    "    # Convert the list in to a unique list\n",
    "    unique = []\n",
    "    if(n <= len(li)):\n",
    "        for num in li:\n",
    "            if(num not in unique):\n",
    "                unique.append(num)\n",
    "        unique.sort(reverse = True)\n",
    "    \n",
    "        print(unique[n-1])\n",
    "    else:\n",
    "        print(\"not exists\")\n",
    "\n",
    "nthLargest([1],5)"
   ]
  },
  {
   "cell_type": "code",
   "execution_count": 22,
   "metadata": {},
   "outputs": [
    {
     "name": "stdout",
     "output_type": "stream",
     "text": [
      "[1, 3, 4, 6, 8]\n",
      "3\n"
     ]
    }
   ],
   "source": [
    "def nthSmallest(li,n):\n",
    "    # Convert the list in to a unique list\n",
    "    unique = []\n",
    "    if(n <= len(li)):\n",
    "        for num in li:\n",
    "            if(num not in unique):\n",
    "                unique.append(num)\n",
    "        # Sort the list in ascending order\n",
    "        unique.sort()\n",
    "        print(unique)\n",
    "    \n",
    "        print(unique[n-1])\n",
    "    else:\n",
    "        print(\"not exists\")\n",
    "\n",
    "nthSmallest([1,8,6,8,4,3],2)"
   ]
  },
  {
   "cell_type": "code",
   "execution_count": null,
   "metadata": {},
   "outputs": [],
   "source": []
  }
 ],
 "metadata": {
  "kernelspec": {
   "display_name": "Python 3",
   "language": "python",
   "name": "python3"
  },
  "language_info": {
   "codemirror_mode": {
    "name": "ipython",
    "version": 3
   },
   "file_extension": ".py",
   "mimetype": "text/x-python",
   "name": "python",
   "nbconvert_exporter": "python",
   "pygments_lexer": "ipython3",
   "version": "3.7.3"
  }
 },
 "nbformat": 4,
 "nbformat_minor": 2
}
