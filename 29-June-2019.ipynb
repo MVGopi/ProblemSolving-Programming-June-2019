{
 "cells": [
  {
   "cell_type": "markdown",
   "metadata": {},
   "source": [
    "#### Data Science  -  https://scipy.org/\n",
    "\n",
    "**numpy**\n",
    "- Used for processing N dimensional arrays\n",
    "\n",
    "**pandas**\n",
    "\n",
    "**matplotlib**\n"
   ]
  },
  {
   "cell_type": "code",
   "execution_count": 16,
   "metadata": {},
   "outputs": [
    {
     "data": {
      "text/plain": [
       "array([48, 19, 23, 68, 90, 46, 20, 23, 40, 91])"
      ]
     },
     "execution_count": 16,
     "metadata": {},
     "output_type": "execute_result"
    }
   ],
   "source": [
    "import numpy as np\n",
    "\n",
    "li = [1,2,3]\n",
    "\n",
    "a = np.array(li)               # creates an array\n",
    "\n",
    "a\n",
    "\n",
    "type(a)\n",
    "\n",
    "b = np.arange(15)             # creates an array based on given range\n",
    "\n",
    "b\n",
    "\n",
    "rn = np.random.randint(0,100, size = 10)  # random implemented within the numpy \n",
    "\n",
    "rn"
   ]
  },
  {
   "cell_type": "code",
   "execution_count": 28,
   "metadata": {},
   "outputs": [
    {
     "data": {
      "text/plain": [
       "0"
      ]
     },
     "execution_count": 28,
     "metadata": {},
     "output_type": "execute_result"
    }
   ],
   "source": [
    "# 2 dimensional array\n",
    "\n",
    "twod_array = np.random.randint(0,2, size = (3, 3))  # creating 2 dimensional array\n",
    "\n",
    "twod_array[0][1]                                    # arrayName[0][1]\n",
    "\n",
    "twod_array[1][2]"
   ]
  },
  {
   "cell_type": "code",
   "execution_count": 44,
   "metadata": {},
   "outputs": [
    {
     "data": {
      "text/plain": [
       "array([[[[8, 6, 9, 7],\n",
       "         [6, 3, 4, 1],\n",
       "         [9, 5, 1, 2],\n",
       "         [9, 9, 6, 5]],\n",
       "\n",
       "        [[9, 6, 4, 3],\n",
       "         [4, 5, 7, 2],\n",
       "         [4, 6, 9, 7],\n",
       "         [1, 7, 7, 9]],\n",
       "\n",
       "        [[8, 4, 2, 4],\n",
       "         [6, 8, 4, 2],\n",
       "         [2, 3, 2, 2],\n",
       "         [2, 1, 9, 8]],\n",
       "\n",
       "        [[6, 2, 5, 2],\n",
       "         [9, 3, 7, 3],\n",
       "         [3, 2, 6, 5],\n",
       "         [3, 9, 5, 8]]],\n",
       "\n",
       "\n",
       "       [[[4, 5, 3, 2],\n",
       "         [8, 3, 5, 3],\n",
       "         [1, 6, 5, 4],\n",
       "         [8, 2, 4, 4]],\n",
       "\n",
       "        [[4, 2, 5, 1],\n",
       "         [7, 5, 3, 8],\n",
       "         [5, 7, 5, 5],\n",
       "         [9, 4, 7, 3]],\n",
       "\n",
       "        [[7, 4, 6, 6],\n",
       "         [2, 1, 8, 1],\n",
       "         [2, 3, 5, 8],\n",
       "         [1, 6, 1, 2]],\n",
       "\n",
       "        [[2, 2, 9, 9],\n",
       "         [5, 5, 7, 9],\n",
       "         [9, 8, 2, 9],\n",
       "         [4, 5, 6, 1]]],\n",
       "\n",
       "\n",
       "       [[[4, 5, 7, 2],\n",
       "         [7, 6, 7, 3],\n",
       "         [1, 9, 4, 3],\n",
       "         [2, 1, 1, 7]],\n",
       "\n",
       "        [[8, 7, 3, 5],\n",
       "         [3, 2, 3, 8],\n",
       "         [8, 7, 7, 2],\n",
       "         [6, 1, 2, 2]],\n",
       "\n",
       "        [[6, 4, 7, 3],\n",
       "         [5, 3, 4, 4],\n",
       "         [4, 7, 8, 1],\n",
       "         [6, 3, 2, 4]],\n",
       "\n",
       "        [[8, 1, 5, 7],\n",
       "         [3, 3, 2, 6],\n",
       "         [4, 3, 4, 1],\n",
       "         [8, 7, 5, 9]]],\n",
       "\n",
       "\n",
       "       [[[2, 2, 2, 5],\n",
       "         [4, 8, 5, 9],\n",
       "         [6, 4, 1, 3],\n",
       "         [1, 1, 9, 7]],\n",
       "\n",
       "        [[5, 4, 6, 9],\n",
       "         [9, 4, 2, 6],\n",
       "         [6, 5, 1, 1],\n",
       "         [9, 3, 2, 2]],\n",
       "\n",
       "        [[9, 4, 5, 5],\n",
       "         [6, 5, 3, 2],\n",
       "         [2, 1, 8, 6],\n",
       "         [2, 5, 7, 8]],\n",
       "\n",
       "        [[8, 9, 5, 1],\n",
       "         [3, 7, 6, 5],\n",
       "         [4, 2, 2, 7],\n",
       "         [9, 8, 6, 2]]]])"
      ]
     },
     "execution_count": 44,
     "metadata": {},
     "output_type": "execute_result"
    }
   ],
   "source": [
    "# 4 dimensional array\n",
    "\n",
    "fourd_array = np.random.randint(1,10, size = (4,4,4,4))\n",
    "\n",
    "fourd_array.ndim\n",
    "\n",
    "fourd_array.shape\n",
    "\n",
    "fourd_array.size\n",
    "\n",
    "fourd_array.dtype\n",
    "\n",
    "fourd_array.itemsize\n",
    "\n",
    "fourd_array"
   ]
  },
  {
   "cell_type": "code",
   "execution_count": 53,
   "metadata": {},
   "outputs": [
    {
     "data": {
      "text/plain": [
       "array([2, 3])"
      ]
     },
     "execution_count": 53,
     "metadata": {},
     "output_type": "execute_result"
    }
   ],
   "source": [
    "# slicing in arrays in single dimension\n",
    "oned = np.array(li)\n",
    "\n",
    "oned[-1]\n",
    "\n",
    "oned[1:]\n",
    "\n",
    "oned[-2:]"
   ]
  },
  {
   "cell_type": "code",
   "execution_count": 71,
   "metadata": {},
   "outputs": [
    {
     "data": {
      "text/plain": [
       "2"
      ]
     },
     "execution_count": 71,
     "metadata": {},
     "output_type": "execute_result"
    }
   ],
   "source": [
    "# slicing in arrays in two dimensional\n",
    "\n",
    "twod = np.array([[1,2,3,4],[5,6,7,8]])\n",
    "\n",
    "twod[0][2:]\n",
    "\n",
    "twod[1][-3:]\n",
    "\n",
    "sum(twod[1])\n",
    "\n",
    "twod.ndim"
   ]
  },
  {
   "cell_type": "code",
   "execution_count": 73,
   "metadata": {},
   "outputs": [
    {
     "data": {
      "text/plain": [
       "array([[[ 1,  2,  3,  4],\n",
       "        [ 5,  6,  7,  8],\n",
       "        [ 9, 10, 11, 12]]])"
      ]
     },
     "execution_count": 73,
     "metadata": {},
     "output_type": "execute_result"
    }
   ],
   "source": [
    "# slicing of arrays in three dimensional\n",
    "\n",
    "threed = np.array([[[1,2,3,4],[5,6,7,8],[9,10,11,12]]])\n",
    "\n",
    "threed.ndim\n",
    "\n",
    "threed"
   ]
  },
  {
   "cell_type": "code",
   "execution_count": 78,
   "metadata": {},
   "outputs": [
    {
     "name": "stdout",
     "output_type": "stream",
     "text": [
      "Addition of two matrices:  [5 6 7]\n"
     ]
    }
   ],
   "source": [
    "# broadcasting - while adding arrays if the on ematrix having constant values add the scalar \n",
    "## value to the other matrix it reduces time & comlexity\n",
    "\n",
    "## dimensions must be equal or both matrices dimension should be 1 while broadcasting\n",
    "\n",
    "import numpy as np\n",
    "\n",
    "a = np.array([1,2,3])\n",
    "\n",
    "b = np.array([4,4,4])\n",
    "\n",
    "print(\"Addition of two matrices: \", a+4)"
   ]
  },
  {
   "cell_type": "code",
   "execution_count": 92,
   "metadata": {},
   "outputs": [
    {
     "data": {
      "text/plain": [
       "7.9100000220933e-05"
      ]
     },
     "execution_count": 92,
     "metadata": {},
     "output_type": "execute_result"
    }
   ],
   "source": [
    "import numpy as np\n",
    "\n",
    "np.ones((3,3), dtype = int )\n",
    "\n",
    "import timeit\n",
    "\n",
    "st = timeit.default_timer()\n",
    "\n",
    "np.ones((4,4,4,4), dtype = int)\n",
    "\n",
    "et = timeit.default_timer()\n",
    "\n",
    "et - st "
   ]
  },
  {
   "cell_type": "markdown",
   "metadata": {},
   "source": [
    "#### Vectorized vs Unvectorized "
   ]
  },
  {
   "cell_type": "code",
   "execution_count": null,
   "metadata": {},
   "outputs": [],
   "source": []
  },
  {
   "cell_type": "markdown",
   "metadata": {},
   "source": [
    "#### Pandas\n",
    "\n",
    "Use Cases\n",
    "\n",
    "- DataCleaning\n",
    "\n",
    "- DataProcessing\n",
    "\n",
    "- DataAnalysis\n",
    "\n",
    "Notations\n",
    "\n",
    "- Series    ----> one dimensional representation of data\n",
    "\n",
    "- DataFrames  ---> two dimensional representation of data"
   ]
  },
  {
   "cell_type": "code",
   "execution_count": 107,
   "metadata": {},
   "outputs": [
    {
     "data": {
      "text/html": [
       "<div>\n",
       "<style scoped>\n",
       "    .dataframe tbody tr th:only-of-type {\n",
       "        vertical-align: middle;\n",
       "    }\n",
       "\n",
       "    .dataframe tbody tr th {\n",
       "        vertical-align: top;\n",
       "    }\n",
       "\n",
       "    .dataframe thead th {\n",
       "        text-align: right;\n",
       "    }\n",
       "</style>\n",
       "<table border=\"1\" class=\"dataframe\">\n",
       "  <thead>\n",
       "    <tr style=\"text-align: right;\">\n",
       "      <th></th>\n",
       "      <th>internal1</th>\n",
       "      <th>internal</th>\n",
       "    </tr>\n",
       "  </thead>\n",
       "  <tbody>\n",
       "    <tr>\n",
       "      <th>s1</th>\n",
       "      <td>21</td>\n",
       "      <td>17</td>\n",
       "    </tr>\n",
       "    <tr>\n",
       "      <th>s2</th>\n",
       "      <td>18</td>\n",
       "      <td>15</td>\n",
       "    </tr>\n",
       "    <tr>\n",
       "      <th>s3</th>\n",
       "      <td>24</td>\n",
       "      <td>22</td>\n",
       "    </tr>\n",
       "  </tbody>\n",
       "</table>\n",
       "</div>"
      ],
      "text/plain": [
       "    internal1  internal\n",
       "s1         21        17\n",
       "s2         18        15\n",
       "s3         24        22"
      ]
     },
     "execution_count": 107,
     "metadata": {},
     "output_type": "execute_result"
    }
   ],
   "source": [
    "import pandas as pd\n",
    "\n",
    "internal1 = {'s1' : 21, 's2' : 18, 's3' : 24}\n",
    "\n",
    "#internal1 = pd.Series(internal1)\n",
    "\n",
    "internal2 = {'s1' : 17, 's2' : 15, 's3' : 22}\n",
    "\n",
    "#internal2 = pd.Series(internal2)\n",
    "\n",
    "final = { 'internal1' : internal1, 'internal' : internal2 }\n",
    "\n",
    "df = pd.DataFrame(final)  # Creating a data frame\n",
    "\n",
    "df"
   ]
  },
  {
   "cell_type": "code",
   "execution_count": 112,
   "metadata": {},
   "outputs": [
    {
     "data": {
      "text/plain": [
       "22"
      ]
     },
     "execution_count": 112,
     "metadata": {},
     "output_type": "execute_result"
    }
   ],
   "source": [
    "df.columns              # gives the column names of a data frame\n",
    "\n",
    "df.values               # gives the lists of all rows\n",
    "\n",
    "df.values[2]            # Acessing the 3rd student marks\n",
    "\n",
    "df.values[2][1]         # 3rd student 2nd internal marks"
   ]
  },
  {
   "cell_type": "code",
   "execution_count": 113,
   "metadata": {},
   "outputs": [
    {
     "name": "stdout",
     "output_type": "stream",
     "text": [
      "Internal1 -  21 , Internal2 - 17\n",
      "Internal1 -  18 , Internal2 - 15\n",
      "Internal1 -  24 , Internal2 - 22\n"
     ]
    }
   ],
   "source": [
    "for row in df.values:\n",
    "    print('Internal1 - ',row[0] ,', Internal2 -',row[1])"
   ]
  },
  {
   "cell_type": "code",
   "execution_count": 131,
   "metadata": {},
   "outputs": [
    {
     "data": {
      "text/html": [
       "<div>\n",
       "<style scoped>\n",
       "    .dataframe tbody tr th:only-of-type {\n",
       "        vertical-align: middle;\n",
       "    }\n",
       "\n",
       "    .dataframe tbody tr th {\n",
       "        vertical-align: top;\n",
       "    }\n",
       "\n",
       "    .dataframe thead th {\n",
       "        text-align: right;\n",
       "    }\n",
       "</style>\n",
       "<table border=\"1\" class=\"dataframe\">\n",
       "  <thead>\n",
       "    <tr style=\"text-align: right;\">\n",
       "      <th></th>\n",
       "      <th>internal1</th>\n",
       "      <th>internal</th>\n",
       "    </tr>\n",
       "  </thead>\n",
       "  <tbody>\n",
       "    <tr>\n",
       "      <th>s1</th>\n",
       "      <td>21</td>\n",
       "      <td>17</td>\n",
       "    </tr>\n",
       "    <tr>\n",
       "      <th>s2</th>\n",
       "      <td>18</td>\n",
       "      <td>15</td>\n",
       "    </tr>\n",
       "    <tr>\n",
       "      <th>s3</th>\n",
       "      <td>21</td>\n",
       "      <td>19</td>\n",
       "    </tr>\n",
       "  </tbody>\n",
       "</table>\n",
       "</div>"
      ],
      "text/plain": [
       "    internal1  internal\n",
       "s1         21        17\n",
       "s2         18        15\n",
       "s3         21        19"
      ]
     },
     "execution_count": 131,
     "metadata": {},
     "output_type": "execute_result"
    }
   ],
   "source": [
    "df.loc['s3'] = [19, 21]    # Modifying data\n",
    "\n",
    "#df = df.drop(3)           # removing data\n",
    "\n",
    "df.values[2] = [21, 19]    # Modifying data based on index\n"
   ]
  },
  {
   "cell_type": "code",
   "execution_count": 132,
   "metadata": {},
   "outputs": [
    {
     "data": {
      "text/html": [
       "<div>\n",
       "<style scoped>\n",
       "    .dataframe tbody tr th:only-of-type {\n",
       "        vertical-align: middle;\n",
       "    }\n",
       "\n",
       "    .dataframe tbody tr th {\n",
       "        vertical-align: top;\n",
       "    }\n",
       "\n",
       "    .dataframe thead th {\n",
       "        text-align: right;\n",
       "    }\n",
       "</style>\n",
       "<table border=\"1\" class=\"dataframe\">\n",
       "  <thead>\n",
       "    <tr style=\"text-align: right;\">\n",
       "      <th></th>\n",
       "      <th>GEOID</th>\n",
       "      <th>State</th>\n",
       "      <th>2005</th>\n",
       "      <th>2006</th>\n",
       "      <th>2007</th>\n",
       "      <th>2008</th>\n",
       "      <th>2009</th>\n",
       "      <th>2010</th>\n",
       "      <th>2011</th>\n",
       "      <th>2012</th>\n",
       "      <th>2013</th>\n",
       "    </tr>\n",
       "  </thead>\n",
       "  <tbody>\n",
       "    <tr>\n",
       "      <th>0</th>\n",
       "      <td>04000US01</td>\n",
       "      <td>Alabama</td>\n",
       "      <td>37150</td>\n",
       "      <td>37952</td>\n",
       "      <td>42212</td>\n",
       "      <td>44476</td>\n",
       "      <td>39980</td>\n",
       "      <td>40933</td>\n",
       "      <td>42590</td>\n",
       "      <td>43464</td>\n",
       "      <td>41381</td>\n",
       "    </tr>\n",
       "    <tr>\n",
       "      <th>1</th>\n",
       "      <td>04000US02</td>\n",
       "      <td>Alaska</td>\n",
       "      <td>55891</td>\n",
       "      <td>56418</td>\n",
       "      <td>62993</td>\n",
       "      <td>63989</td>\n",
       "      <td>61604</td>\n",
       "      <td>57848</td>\n",
       "      <td>57431</td>\n",
       "      <td>63648</td>\n",
       "      <td>61137</td>\n",
       "    </tr>\n",
       "    <tr>\n",
       "      <th>2</th>\n",
       "      <td>04000US04</td>\n",
       "      <td>Arizona</td>\n",
       "      <td>45245</td>\n",
       "      <td>46657</td>\n",
       "      <td>47215</td>\n",
       "      <td>46914</td>\n",
       "      <td>45739</td>\n",
       "      <td>46896</td>\n",
       "      <td>48621</td>\n",
       "      <td>47044</td>\n",
       "      <td>50602</td>\n",
       "    </tr>\n",
       "    <tr>\n",
       "      <th>3</th>\n",
       "      <td>04000US05</td>\n",
       "      <td>Arkansas</td>\n",
       "      <td>36658</td>\n",
       "      <td>37057</td>\n",
       "      <td>40795</td>\n",
       "      <td>39586</td>\n",
       "      <td>36538</td>\n",
       "      <td>38587</td>\n",
       "      <td>41302</td>\n",
       "      <td>39018</td>\n",
       "      <td>39919</td>\n",
       "    </tr>\n",
       "    <tr>\n",
       "      <th>4</th>\n",
       "      <td>04000US06</td>\n",
       "      <td>California</td>\n",
       "      <td>51755</td>\n",
       "      <td>55319</td>\n",
       "      <td>55734</td>\n",
       "      <td>57014</td>\n",
       "      <td>56134</td>\n",
       "      <td>54283</td>\n",
       "      <td>53367</td>\n",
       "      <td>57020</td>\n",
       "      <td>57528</td>\n",
       "    </tr>\n",
       "  </tbody>\n",
       "</table>\n",
       "</div>"
      ],
      "text/plain": [
       "       GEOID       State   2005   2006   2007   2008   2009   2010   2011  \\\n",
       "0  04000US01     Alabama  37150  37952  42212  44476  39980  40933  42590   \n",
       "1  04000US02      Alaska  55891  56418  62993  63989  61604  57848  57431   \n",
       "2  04000US04     Arizona  45245  46657  47215  46914  45739  46896  48621   \n",
       "3  04000US05    Arkansas  36658  37057  40795  39586  36538  38587  41302   \n",
       "4  04000US06  California  51755  55319  55734  57014  56134  54283  53367   \n",
       "\n",
       "    2012   2013  \n",
       "0  43464  41381  \n",
       "1  63648  61137  \n",
       "2  47044  50602  \n",
       "3  39018  39919  \n",
       "4  57020  57528  "
      ]
     },
     "execution_count": 132,
     "metadata": {},
     "output_type": "execute_result"
    }
   ],
   "source": [
    "# Reading CSV file data\n",
    "\n",
    "import pandas as pd\n",
    "\n",
    "filePath = 'DataFiles/Income.csv'\n",
    "\n",
    "incomedf = pd.read_csv(filePath)\n"
   ]
  },
  {
   "cell_type": "code",
   "execution_count": 134,
   "metadata": {},
   "outputs": [
    {
     "name": "stdout",
     "output_type": "stream",
     "text": [
      "Alabama : 41381\n",
      "Alaska : 61137\n",
      "Arizona : 50602\n",
      "Arkansas : 39919\n",
      "California : 57528\n"
     ]
    }
   ],
   "source": [
    "# Extract income of all years in 2013\n",
    "\n",
    "for row in incomedf.values:\n",
    "    print(row[1], ':', row[-1])"
   ]
  },
  {
   "cell_type": "code",
   "execution_count": 136,
   "metadata": {},
   "outputs": [
    {
     "data": {
      "text/plain": [
       "47214.77777777778"
      ]
     },
     "execution_count": 136,
     "metadata": {},
     "output_type": "execute_result"
    }
   ],
   "source": [
    "# Average income of arizona\n",
    "\n",
    "sum = 0\n",
    "\n",
    "for i in  range(2, 11):\n",
    "    sum += incomedf.values[2][i]\n",
    "    \n",
    "sum/len(incomedf.values[2][2:])"
   ]
  },
  {
   "cell_type": "code",
   "execution_count": 137,
   "metadata": {},
   "outputs": [
    {
     "name": "stdout",
     "output_type": "stream",
     "text": [
      "50038.8\n"
     ]
    }
   ],
   "source": [
    "# Average income of all states in 2012\n",
    "\n",
    "sum = 0\n",
    "\n",
    "for row in incomedf.values:\n",
    "    sum += row[-2]\n",
    "    \n",
    "print(sum/len(incomedf.values))\n",
    "    "
   ]
  },
  {
   "cell_type": "code",
   "execution_count": null,
   "metadata": {},
   "outputs": [],
   "source": []
  }
 ],
 "metadata": {
  "kernelspec": {
   "display_name": "Python 3",
   "language": "python",
   "name": "python3"
  },
  "language_info": {
   "codemirror_mode": {
    "name": "ipython",
    "version": 3
   },
   "file_extension": ".py",
   "mimetype": "text/x-python",
   "name": "python",
   "nbconvert_exporter": "python",
   "pygments_lexer": "ipython3",
   "version": "3.7.3"
  }
 },
 "nbformat": 4,
 "nbformat_minor": 2
}
