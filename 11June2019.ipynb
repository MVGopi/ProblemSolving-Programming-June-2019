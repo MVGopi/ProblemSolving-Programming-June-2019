{
 "cells": [
  {
   "cell_type": "markdown",
   "metadata": {},
   "source": [
    "## Markdown Basics\n",
    "\n",
    "* **Bold**\n",
    "* *Italic*\n",
    "* ***IB***\n",
    "* Normal Text\n",
    "    * Sublist1\n",
    "    * Sublist2\n",
    "\n",
    "\n",
    "\n",
    "1. Ordered List 1\n",
    "2. Ordered List 2\n",
    "\n",
    "\n",
    "[jupyter Logo](jupiterlogo.jpg)\n",
    "\n",
    "\n",
    "<img src=\"jupiterlogo.jpg\" style=\"float:left\"><br><br><br><br><br><br><br>\n",
    "\n"
   ]
  },
  {
   "cell_type": "markdown",
   "metadata": {},
   "source": []
  },
  {
   "cell_type": "markdown",
   "metadata": {},
   "source": [
    "### Python Basics"
   ]
  },
  {
   "cell_type": "markdown",
   "metadata": {},
   "source": [
    "Python Version 3.7\n",
    "\n",
    "* Scripting\n",
    "* Object Oriented\n",
    "* Functional"
   ]
  },
  {
   "cell_type": "code",
   "execution_count": 6,
   "metadata": {},
   "outputs": [
    {
     "name": "stdout",
     "output_type": "stream",
     "text": [
      "Hi good afternoon ! Hello Python\n"
     ]
    }
   ],
   "source": [
    "#python comments\n",
    "\n",
    "print('Hi good afternoon',\"!\",end=\" \") #Basic output\n",
    "\n",
    "print(\"Hello Python\")"
   ]
  },
  {
   "cell_type": "code",
   "execution_count": null,
   "metadata": {},
   "outputs": [],
   "source": []
  },
  {
   "cell_type": "markdown",
   "metadata": {},
   "source": [
    "### Assignment"
   ]
  },
  {
   "cell_type": "code",
   "execution_count": 8,
   "metadata": {},
   "outputs": [
    {
     "data": {
      "text/plain": [
       "('venkata gopi', 'a@777', 23)"
      ]
     },
     "execution_count": 8,
     "metadata": {},
     "output_type": "execute_result"
    }
   ],
   "source": [
    "# variableName = Value\n",
    "\n",
    "empName = \"venkata gopi\" # Single varaible assignment\n",
    "\n",
    "empName1 = empName2 = empName3 = empName # Multi Varaible Assignment With Same Values  \n",
    "\n",
    "empName,empId,empAge = \"venkata gopi\",\"a@777\",23 # Multi Variable Assignment With Different Values\n",
    "\n",
    "empName,empId,empAge"
   ]
  },
  {
   "cell_type": "code",
   "execution_count": null,
   "metadata": {},
   "outputs": [],
   "source": []
  },
  {
   "cell_type": "markdown",
   "metadata": {},
   "source": [
    "### Data Types & Conversions\n",
    "* int\n",
    "* float\n",
    "* str"
   ]
  },
  {
   "cell_type": "code",
   "execution_count": 19,
   "metadata": {},
   "outputs": [
    {
     "data": {
      "text/plain": [
       "'13.0'"
      ]
     },
     "execution_count": 19,
     "metadata": {},
     "output_type": "execute_result"
    }
   ],
   "source": [
    "s = \"jupyter\"\n",
    "\n",
    "type(s)\n",
    "\n",
    "c = 13.333\n",
    "\n",
    "type(c)\n",
    "\n",
    "int(c)\n",
    "\n",
    "float(int(c))\n",
    "\n",
    "str(float(int(c)))"
   ]
  },
  {
   "cell_type": "code",
   "execution_count": null,
   "metadata": {},
   "outputs": [],
   "source": []
  },
  {
   "cell_type": "markdown",
   "metadata": {},
   "source": [
    "### Operators\n",
    "\n",
    "#### Arthimetic Operators\n",
    "\n",
    "* +\n",
    "* -\n",
    "* /\n",
    "* //\n",
    "* %"
   ]
  },
  {
   "cell_type": "code",
   "execution_count": 14,
   "metadata": {},
   "outputs": [
    {
     "data": {
      "text/plain": [
       "int"
      ]
     },
     "execution_count": 14,
     "metadata": {},
     "output_type": "execute_result"
    }
   ],
   "source": [
    "n = 25\n",
    "\n",
    "#n % 5,n - 10,n ** 2,n // 5,n / 5\n",
    "\n",
    "type(n)\n"
   ]
  },
  {
   "cell_type": "code",
   "execution_count": null,
   "metadata": {},
   "outputs": [],
   "source": []
  },
  {
   "cell_type": "markdown",
   "metadata": {},
   "source": [
    "### Conditionals Statements"
   ]
  },
  {
   "cell_type": "code",
   "execution_count": 22,
   "metadata": {},
   "outputs": [
    {
     "name": "stdout",
     "output_type": "stream",
     "text": [
      "Atoms lesser than 1000000000000000000000000000000000000000000000000000000000000000000000000000000000000000000\n"
     ]
    }
   ],
   "source": [
    "atoms = 10 ** 82\n",
    "\n",
    "if atoms < 10 ** 90:\n",
    "    print(\"Atoms lesser than\",10 ** 90)\n",
    "else:\n",
    "    print(\"Atoms greater than\",10 ** 90)"
   ]
  },
  {
   "cell_type": "code",
   "execution_count": null,
   "metadata": {},
   "outputs": [],
   "source": []
  },
  {
   "cell_type": "code",
   "execution_count": 1,
   "metadata": {},
   "outputs": [
    {
     "name": "stdout",
     "output_type": "stream",
     "text": [
      "Enter a value: 7\n",
      "7 is not even\n"
     ]
    }
   ],
   "source": [
    "# Check if the given number is even or not\n",
    "\n",
    "n=int(input('Enter a value: '))\n",
    "\n",
    "if n%2 == 0:\n",
    "    print(n,'is even number')\n",
    "else:\n",
    "    print(n,'is not even')"
   ]
  },
  {
   "cell_type": "code",
   "execution_count": 3,
   "metadata": {},
   "outputs": [
    {
     "name": "stdout",
     "output_type": "stream",
     "text": [
      "Enter n1: 7\n",
      "Enter n2: 6\n",
      "Enter n3: 9\n",
      "9 is greatest\n"
     ]
    }
   ],
   "source": [
    "# Find greatest of three numbers\n",
    "\n",
    "n1 = int(input('Enter n1: '))\n",
    "\n",
    "n2 = int(input('Enter n2: '))\n",
    "\n",
    "n3 = int(input('Enter n3: '))\n",
    "\n",
    "if n1 > n2 and n1 > n3:\n",
    "    print(n1,'is greatest')\n",
    "elif n2 > n3:\n",
    "    print(n2,'is greatest')\n",
    "else:\n",
    "    print(n3,'is greatest')"
   ]
  },
  {
   "cell_type": "code",
   "execution_count": null,
   "metadata": {},
   "outputs": [],
   "source": []
  },
  {
   "cell_type": "code",
   "execution_count": 19,
   "metadata": {},
   "outputs": [
    {
     "name": "stdout",
     "output_type": "stream",
     "text": [
      "Enter year: 2021\n",
      "not leap year\n"
     ]
    }
   ],
   "source": [
    "# Check if a number is a leap year\n",
    "\n",
    "year=int(input('Enter year: '))\n",
    "\n",
    "if year%400 == 0 or (year%100!=0 and year%4==0):\n",
    "    print(\"leap year\")\n",
    "else:\n",
    "    print('not leap year')"
   ]
  },
  {
   "cell_type": "code",
   "execution_count": null,
   "metadata": {},
   "outputs": [],
   "source": []
  },
  {
   "cell_type": "code",
   "execution_count": 11,
   "metadata": {},
   "outputs": [
    {
     "name": "stdout",
     "output_type": "stream",
     "text": [
      "Enter min value: 3\n",
      "Enter max value: 7\n",
      "Enter a value to find6\n"
     ]
    },
    {
     "data": {
      "text/plain": [
       "True"
      ]
     },
     "execution_count": 11,
     "metadata": {},
     "output_type": "execute_result"
    }
   ],
   "source": [
    "# Check if a given number exists in the given range\n",
    "\n",
    "n1 = int(input('Enter min value: '))\n",
    "\n",
    "n2 = int(input('Enter max value: '))\n",
    "\n",
    "\n",
    "n = int(input('Enter a value to find'))\n",
    "\n",
    "n in range(n1,n2)"
   ]
  },
  {
   "cell_type": "code",
   "execution_count": null,
   "metadata": {},
   "outputs": [],
   "source": []
  },
  {
   "cell_type": "code",
   "execution_count": 12,
   "metadata": {},
   "outputs": [
    {
     "name": "stdout",
     "output_type": "stream",
     "text": [
      "Enter a stringabc123\n",
      "No of digits in a string:  3\n"
     ]
    }
   ],
   "source": [
    "# Caluclate number of digits in a given string\n",
    "\n",
    "c=0\n",
    "\n",
    "s = input('Enter a string')\n",
    "\n",
    "for i in s:\n",
    "    if(i.isdigit()):\n",
    "        c=c+1\n",
    "    else:\n",
    "        continue\n",
    "        \n",
    "print('No of digits in a string: ',c)"
   ]
  },
  {
   "cell_type": "code",
   "execution_count": null,
   "metadata": {},
   "outputs": [],
   "source": []
  },
  {
   "cell_type": "code",
   "execution_count": 13,
   "metadata": {},
   "outputs": [
    {
     "name": "stdout",
     "output_type": "stream",
     "text": [
      "Enter a number: 100\n",
      "100 is multiple of 10\n"
     ]
    }
   ],
   "source": [
    "# Check if number is multiple of 10 or not\n",
    "\n",
    "n = int(input('Enter a number: '))\n",
    "\n",
    "if(n%10==0):\n",
    "    print(n,'is multiple of 10')\n",
    "else:\n",
    "    print(n,'not a multiple of 10')\n",
    "    "
   ]
  },
  {
   "cell_type": "code",
   "execution_count": null,
   "metadata": {},
   "outputs": [],
   "source": []
  },
  {
   "cell_type": "code",
   "execution_count": 14,
   "metadata": {},
   "outputs": [
    {
     "name": "stdout",
     "output_type": "stream",
     "text": [
      "Enter a number: 10\n",
      "10 is a fcator of 1000\n"
     ]
    }
   ],
   "source": [
    "# check whether if a number is factor of 1000\n",
    "\n",
    "n = int(input('Enter a number: '))\n",
    "\n",
    "if(1000%n==0):\n",
    "    print(n,'is a fcator of 1000')\n",
    "else:\n",
    "    print(n,'is not a factor of 1000')"
   ]
  },
  {
   "cell_type": "code",
   "execution_count": null,
   "metadata": {},
   "outputs": [],
   "source": []
  },
  {
   "cell_type": "code",
   "execution_count": null,
   "metadata": {},
   "outputs": [],
   "source": [
    "# Check if given string equal to a number\n",
    "\n",
    "n1=\"123456\"\n",
    "\n",
    "n2=123456\n",
    "\n",
    "if(str(n2) == n1):\n",
    "    print(\"Equal\")\n",
    "else:\n",
    "    print(\"Different\")\n"
   ]
  },
  {
   "cell_type": "code",
   "execution_count": null,
   "metadata": {},
   "outputs": [],
   "source": []
  },
  {
   "cell_type": "code",
   "execution_count": 16,
   "metadata": {},
   "outputs": [
    {
     "name": "stdout",
     "output_type": "stream",
     "text": [
      "Enter given number: 64\n"
     ]
    },
    {
     "data": {
      "text/plain": [
       "8.0"
      ]
     },
     "execution_count": 16,
     "metadata": {},
     "output_type": "execute_result"
    }
   ],
   "source": [
    "# Caluclate the square root of a given number\n",
    "\n",
    "n = int(input('Enter given number: '))\n",
    "\n",
    "x = n ** 0.5\n",
    "\n",
    "x"
   ]
  },
  {
   "cell_type": "code",
   "execution_count": null,
   "metadata": {},
   "outputs": [],
   "source": []
  }
 ],
 "metadata": {
  "kernelspec": {
   "display_name": "Python 3",
   "language": "python",
   "name": "python3"
  },
  "language_info": {
   "codemirror_mode": {
    "name": "ipython",
    "version": 3
   },
   "file_extension": ".py",
   "mimetype": "text/x-python",
   "name": "python",
   "nbconvert_exporter": "python",
   "pygments_lexer": "ipython3",
   "version": "3.7.3"
  }
 },
 "nbformat": 4,
 "nbformat_minor": 2
}
